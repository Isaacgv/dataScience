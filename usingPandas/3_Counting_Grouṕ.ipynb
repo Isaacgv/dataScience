{
 "cells": [
  {
   "cell_type": "markdown",
   "metadata": {},
   "source": [
    "# Counting"
   ]
  },
  {
   "cell_type": "code",
   "execution_count": 1,
   "metadata": {},
   "outputs": [],
   "source": [
    "import numpy as np\n",
    "import pandas as pd\n",
    "from pandas import Timestamp"
   ]
  },
  {
   "cell_type": "code",
   "execution_count": 95,
   "metadata": {},
   "outputs": [],
   "source": [
    "sales=np.array([[1, 'A', 1, Timestamp('2010-02-05 00:00:00'), 24924.5, False,\n",
    "        5.727777777777779, 0.6794508388787476, 8.106],\n",
    "       [1, 'A', 1, Timestamp('2010-03-05 00:00:00'), 21827.9, False,\n",
    "        8.055555555555555, 0.693451964252221, 8.106],\n",
    "       [1, 'A', 1, Timestamp('2010-04-02 00:00:00'), 57258.43, False,\n",
    "        16.81666666666667, 0.718284148876872, 7.808],\n",
    "       [1, 'A', 1, Timestamp('2010-05-07 00:00:00'), 17413.94, False,\n",
    "        22.52777777777778, 0.7489281213923986, 7.808],\n",
    "       [1, 'A', 1, Timestamp('2010-06-04 00:00:00'), 17558.09, False,\n",
    "        27.049999999999997, 0.7145857384008601, 7.808],\n",
    "       [1, 'A', 1, Timestamp('2010-07-02 00:00:00'), 16333.14, False,\n",
    "        27.17222222222222, 0.7050755400339724, 7.787000000000001],\n",
    "       [1, 'A', 1, Timestamp('2010-08-06 00:00:00'), 17508.41, False,\n",
    "        30.64444444444444, 0.693980308605937, 7.787000000000001],\n",
    "       [1, 'A', 1, Timestamp('2010-09-03 00:00:00'), 16241.78, False,\n",
    "        27.338888888888885, 0.6807716997630375, 7.787000000000001],\n",
    "       [1, 'A', 1, Timestamp('2010-10-01 00:00:00'), 20094.19, False,\n",
    "        22.16111111111111, 0.6876401763613453, 7.837999999999999],\n",
    "       [1, 'A', 1, Timestamp('2010-11-05 00:00:00'), 34238.88, False,\n",
    "        14.855555555555558, 0.7103589835711321, 7.837999999999999],\n",
    "       [1, 'A', 1, Timestamp('2010-12-03 00:00:00'), 22517.56, False,\n",
    "        9.594444444444447, 0.7153782549314341, 7.837999999999999],\n",
    "       [1, 'A', 1, Timestamp('2011-01-07 00:00:00'), 15984.24, False,\n",
    "        9.038888888888891, 0.7861763983293752, 7.742000000000001],\n",
    "       [1, 'A', 2, Timestamp('2010-02-05 00:00:00'), 50605.27, False,\n",
    "        5.727777777777779, 0.6794508388787476, 8.106],\n",
    "       [1, 'A', 2, Timestamp('2010-03-05 00:00:00'), 48397.98, False,\n",
    "        8.055555555555555, 0.693451964252221, 8.106],\n",
    "       [1, 'A', 2, Timestamp('2010-04-02 00:00:00'), 47450.5, False,\n",
    "        16.81666666666667, 0.718284148876872, 7.808],\n",
    "       [1, 'A', 2, Timestamp('2010-05-07 00:00:00'), 47903.01, False,\n",
    "        22.52777777777778, 0.7489281213923986, 7.808],\n",
    "       [1, 'A', 2, Timestamp('2010-06-04 00:00:00'), 48754.47, False,\n",
    "        27.049999999999997, 0.7145857384008601, 7.808],\n",
    "       [1, 'A', 2, Timestamp('2010-07-02 00:00:00'), 47077.72, False,\n",
    "        27.17222222222222, 0.7050755400339724, 7.787000000000001],\n",
    "       [1, 'A', 2, Timestamp('2010-08-06 00:00:00'), 50031.73, False,\n",
    "        30.64444444444444, 0.693980308605937, 7.787000000000001],\n",
    "       [1, 'A', 2, Timestamp('2010-09-03 00:00:00'), 49015.05, False,\n",
    "        27.338888888888885, 0.6807716997630375, 7.787000000000001],\n",
    "       [1, 'A', 2, Timestamp('2010-10-01 00:00:00'), 45829.02, False,\n",
    "        22.16111111111111, 0.6876401763613453, 7.837999999999999],\n",
    "       [1, 'A', 2, Timestamp('2010-11-05 00:00:00'), 46381.43, False,\n",
    "        14.855555555555558, 0.7103589835711321, 7.837999999999999],\n",
    "       [1, 'A', 2, Timestamp('2010-12-03 00:00:00'), 44405.02, False,\n",
    "        9.594444444444447, 0.7153782549314341, 7.837999999999999],\n",
    "       [1, 'A', 2, Timestamp('2011-01-07 00:00:00'), 43202.29, False,\n",
    "        9.038888888888891, 0.7861763983293752, 7.742000000000001],\n",
    "       [1, 'A', 3, Timestamp('2010-02-05 00:00:00'), 13740.12, False,\n",
    "        5.727777777777779, 0.6794508388787476, 8.106],\n",
    "       [1, 'A', 3, Timestamp('2010-03-05 00:00:00'), 12275.58, False,\n",
    "        8.055555555555555, 0.693451964252221, 8.106],\n",
    "       [1, 'A', 3, Timestamp('2010-04-02 00:00:00'), 11157.08, False,\n",
    "        16.81666666666667, 0.718284148876872, 7.808],\n",
    "       [1, 'A', 3, Timestamp('2010-05-07 00:00:00'), 9372.8, False,\n",
    "        22.52777777777778, 0.7489281213923986, 7.808],\n",
    "       [1, 'A', 3, Timestamp('2010-06-04 00:00:00'), 8001.41, False,\n",
    "        27.049999999999997, 0.7145857384008601, 7.808],\n",
    "       [1, 'A', 3, Timestamp('2010-07-02 00:00:00'), 7857.88, False,\n",
    "        27.17222222222222, 0.7050755400339724, 7.787000000000001],\n",
    "       [1, 'A', 3, Timestamp('2010-08-06 00:00:00'), 26719.02, False,\n",
    "        30.64444444444444, 0.693980308605937, 7.787000000000001],\n",
    "       [1, 'A', 3, Timestamp('2010-09-03 00:00:00'), 19081.8, False,\n",
    "        27.338888888888885, 0.6807716997630375, 7.787000000000001],\n",
    "       [1, 'A', 3, Timestamp('2010-10-01 00:00:00'), 9775.17, False,\n",
    "        22.16111111111111, 0.6876401763613453, 7.837999999999999],\n",
    "       [1, 'A', 3, Timestamp('2010-11-05 00:00:00'), 9825.22, False,\n",
    "        14.855555555555558, 0.7103589835711321, 7.837999999999999],\n",
    "       [1, 'A', 3, Timestamp('2010-12-03 00:00:00'), 10856.85, False,\n",
    "        9.594444444444447, 0.7153782549314341, 7.837999999999999],\n",
    "       [1, 'A', 3, Timestamp('2011-01-07 00:00:00'), 15808.15, False,\n",
    "        9.038888888888891, 0.7861763983293752, 7.742000000000001],\n",
    "       [1, 'A', 4, Timestamp('2010-02-05 00:00:00'), 39954.04, False,\n",
    "        5.727777777777779, 0.6794508388787476, 8.106],\n",
    "       [1, 'A', 4, Timestamp('2010-03-05 00:00:00'), 38086.19, False,\n",
    "        8.055555555555555, 0.693451964252221, 8.106],\n",
    "       [1, 'A', 4, Timestamp('2010-04-02 00:00:00'), 37809.49, False,\n",
    "        16.81666666666667, 0.718284148876872, 7.808],\n",
    "       [1, 'A', 4, Timestamp('2010-05-07 00:00:00'), 37168.34, False,\n",
    "        22.52777777777778, 0.7489281213923986, 7.808],\n",
    "       [1, 'A', 4, Timestamp('2010-06-04 00:00:00'), 40548.19, False,\n",
    "        27.049999999999997, 0.7145857384008601, 7.808],\n",
    "       [1, 'A', 4, Timestamp('2010-07-02 00:00:00'), 39773.71, False,\n",
    "        27.17222222222222, 0.7050755400339724, 7.787000000000001],\n",
    "       [1, 'A', 4, Timestamp('2010-08-06 00:00:00'), 40973.88, False,\n",
    "        30.64444444444444, 0.693980308605937, 7.787000000000001],\n",
    "       [1, 'A', 4, Timestamp('2010-09-03 00:00:00'), 38321.88, False,\n",
    "        27.338888888888885, 0.6807716997630375, 7.787000000000001],\n",
    "       [1, 'A', 4, Timestamp('2010-10-01 00:00:00'), 34912.45, False,\n",
    "        22.16111111111111, 0.6876401763613453, 7.837999999999999],\n",
    "       [1, 'A', 4, Timestamp('2010-11-05 00:00:00'), 37980.55, False,\n",
    "        14.855555555555558, 0.7103589835711321, 7.837999999999999],\n",
    "       [1, 'A', 4, Timestamp('2010-12-03 00:00:00'), 37110.55, False,\n",
    "        9.594444444444447, 0.7153782549314341, 7.837999999999999],\n",
    "       [1, 'A', 4, Timestamp('2011-01-07 00:00:00'), 37947.8, True,\n",
    "        9.038888888888891, 0.7861763983293752, 7.742000000000001],\n",
    "       [1, 'B', 5, Timestamp('2010-02-05 00:00:00'), 32229.38, True,\n",
    "        5.727777777777779, 0.6794508388787476, 8.106],\n",
    "       [2, 'B', 5, Timestamp('2010-03-05 00:00:00'), 23082.14, False,\n",
    "        8.055555555555555, 0.693451964252221, 8.106]], dtype=object)"
   ]
  },
  {
   "cell_type": "code",
   "execution_count": 96,
   "metadata": {},
   "outputs": [],
   "source": [
    "df = pd.DataFrame(sales, columns=['store',\n",
    " 'type',\n",
    " 'department',\n",
    " 'date',\n",
    " 'weekly_sales',\n",
    " 'is_holiday',\n",
    " 'temperature_c',\n",
    " 'fuel_price_usd_per_l',\n",
    " 'unemployment'])"
   ]
  },
  {
   "cell_type": "markdown",
   "metadata": {},
   "source": [
    "# Dropping duplicates"
   ]
  },
  {
   "cell_type": "code",
   "execution_count": 97,
   "metadata": {},
   "outputs": [
    {
     "data": {
      "text/html": [
       "<div>\n",
       "<style scoped>\n",
       "    .dataframe tbody tr th:only-of-type {\n",
       "        vertical-align: middle;\n",
       "    }\n",
       "\n",
       "    .dataframe tbody tr th {\n",
       "        vertical-align: top;\n",
       "    }\n",
       "\n",
       "    .dataframe thead th {\n",
       "        text-align: right;\n",
       "    }\n",
       "</style>\n",
       "<table border=\"1\" class=\"dataframe\">\n",
       "  <thead>\n",
       "    <tr style=\"text-align: right;\">\n",
       "      <th></th>\n",
       "      <th>store</th>\n",
       "      <th>type</th>\n",
       "      <th>department</th>\n",
       "      <th>date</th>\n",
       "      <th>weekly_sales</th>\n",
       "      <th>is_holiday</th>\n",
       "      <th>temperature_c</th>\n",
       "      <th>fuel_price_usd_per_l</th>\n",
       "      <th>unemployment</th>\n",
       "    </tr>\n",
       "  </thead>\n",
       "  <tbody>\n",
       "    <tr>\n",
       "      <th>0</th>\n",
       "      <td>1</td>\n",
       "      <td>A</td>\n",
       "      <td>1</td>\n",
       "      <td>2010-02-05</td>\n",
       "      <td>24924.5</td>\n",
       "      <td>False</td>\n",
       "      <td>5.72778</td>\n",
       "      <td>0.679451</td>\n",
       "      <td>8.106</td>\n",
       "    </tr>\n",
       "    <tr>\n",
       "      <th>48</th>\n",
       "      <td>1</td>\n",
       "      <td>B</td>\n",
       "      <td>5</td>\n",
       "      <td>2010-02-05</td>\n",
       "      <td>32229.4</td>\n",
       "      <td>True</td>\n",
       "      <td>5.72778</td>\n",
       "      <td>0.679451</td>\n",
       "      <td>8.106</td>\n",
       "    </tr>\n",
       "    <tr>\n",
       "      <th>49</th>\n",
       "      <td>2</td>\n",
       "      <td>B</td>\n",
       "      <td>5</td>\n",
       "      <td>2010-03-05</td>\n",
       "      <td>23082.1</td>\n",
       "      <td>False</td>\n",
       "      <td>8.05556</td>\n",
       "      <td>0.693452</td>\n",
       "      <td>8.106</td>\n",
       "    </tr>\n",
       "  </tbody>\n",
       "</table>\n",
       "</div>"
      ],
      "text/plain": [
       "   store type department       date weekly_sales is_holiday temperature_c  \\\n",
       "0      1    A          1 2010-02-05      24924.5      False       5.72778   \n",
       "48     1    B          5 2010-02-05      32229.4       True       5.72778   \n",
       "49     2    B          5 2010-03-05      23082.1      False       8.05556   \n",
       "\n",
       "   fuel_price_usd_per_l unemployment  \n",
       "0              0.679451        8.106  \n",
       "48             0.679451        8.106  \n",
       "49             0.693452        8.106  "
      ]
     },
     "execution_count": 97,
     "metadata": {},
     "output_type": "execute_result"
    }
   ],
   "source": [
    "# Drop duplicate store/type combinations\n",
    "store_types = df.drop_duplicates(subset=['store', 'type'])\n",
    "store_types.head()"
   ]
  },
  {
   "cell_type": "code",
   "execution_count": 98,
   "metadata": {},
   "outputs": [
    {
     "data": {
      "text/html": [
       "<div>\n",
       "<style scoped>\n",
       "    .dataframe tbody tr th:only-of-type {\n",
       "        vertical-align: middle;\n",
       "    }\n",
       "\n",
       "    .dataframe tbody tr th {\n",
       "        vertical-align: top;\n",
       "    }\n",
       "\n",
       "    .dataframe thead th {\n",
       "        text-align: right;\n",
       "    }\n",
       "</style>\n",
       "<table border=\"1\" class=\"dataframe\">\n",
       "  <thead>\n",
       "    <tr style=\"text-align: right;\">\n",
       "      <th></th>\n",
       "      <th>store</th>\n",
       "      <th>type</th>\n",
       "      <th>department</th>\n",
       "      <th>date</th>\n",
       "      <th>weekly_sales</th>\n",
       "      <th>is_holiday</th>\n",
       "      <th>temperature_c</th>\n",
       "      <th>fuel_price_usd_per_l</th>\n",
       "      <th>unemployment</th>\n",
       "    </tr>\n",
       "  </thead>\n",
       "  <tbody>\n",
       "    <tr>\n",
       "      <th>0</th>\n",
       "      <td>1</td>\n",
       "      <td>A</td>\n",
       "      <td>1</td>\n",
       "      <td>2010-02-05</td>\n",
       "      <td>24924.5</td>\n",
       "      <td>False</td>\n",
       "      <td>5.72778</td>\n",
       "      <td>0.679451</td>\n",
       "      <td>8.106</td>\n",
       "    </tr>\n",
       "    <tr>\n",
       "      <th>48</th>\n",
       "      <td>1</td>\n",
       "      <td>B</td>\n",
       "      <td>5</td>\n",
       "      <td>2010-02-05</td>\n",
       "      <td>32229.4</td>\n",
       "      <td>True</td>\n",
       "      <td>5.72778</td>\n",
       "      <td>0.679451</td>\n",
       "      <td>8.106</td>\n",
       "    </tr>\n",
       "    <tr>\n",
       "      <th>49</th>\n",
       "      <td>2</td>\n",
       "      <td>B</td>\n",
       "      <td>5</td>\n",
       "      <td>2010-03-05</td>\n",
       "      <td>23082.1</td>\n",
       "      <td>False</td>\n",
       "      <td>8.05556</td>\n",
       "      <td>0.693452</td>\n",
       "      <td>8.106</td>\n",
       "    </tr>\n",
       "  </tbody>\n",
       "</table>\n",
       "</div>"
      ],
      "text/plain": [
       "   store type department       date weekly_sales is_holiday temperature_c  \\\n",
       "0      1    A          1 2010-02-05      24924.5      False       5.72778   \n",
       "48     1    B          5 2010-02-05      32229.4       True       5.72778   \n",
       "49     2    B          5 2010-03-05      23082.1      False       8.05556   \n",
       "\n",
       "   fuel_price_usd_per_l unemployment  \n",
       "0              0.679451        8.106  \n",
       "48             0.679451        8.106  \n",
       "49             0.693452        8.106  "
      ]
     },
     "execution_count": 98,
     "metadata": {},
     "output_type": "execute_result"
    }
   ],
   "source": [
    "# Drop duplicate store/type combinations\n",
    "store_depts = df.drop_duplicates(subset=['store', 'department'])\n",
    "store_types.head()"
   ]
  },
  {
   "cell_type": "markdown",
   "metadata": {},
   "source": [
    "# Counting categorical variables"
   ]
  },
  {
   "cell_type": "code",
   "execution_count": 99,
   "metadata": {},
   "outputs": [
    {
     "data": {
      "text/plain": [
       "A    48\n",
       "B     2\n",
       "Name: type, dtype: int64"
      ]
     },
     "execution_count": 99,
     "metadata": {},
     "output_type": "execute_result"
    }
   ],
   "source": [
    "# Count the number of stores of each type\n",
    "store_counts = df[\"type\"].value_counts()\n",
    "store_counts"
   ]
  },
  {
   "cell_type": "code",
   "execution_count": 100,
   "metadata": {},
   "outputs": [
    {
     "data": {
      "text/plain": [
       "5    0.333333\n",
       "4    0.166667\n",
       "3    0.166667\n",
       "2    0.166667\n",
       "1    0.166667\n",
       "Name: department, dtype: float64"
      ]
     },
     "execution_count": 100,
     "metadata": {},
     "output_type": "execute_result"
    }
   ],
   "source": [
    "# Get the proportion of departments of each number and sort\n",
    "dept_props_sorted = store_depts[\"department\"].value_counts(sort=True, normalize=True)\n",
    "dept_props_sorted "
   ]
  },
  {
   "cell_type": "markdown",
   "metadata": {},
   "source": [
    "# Group"
   ]
  },
  {
   "cell_type": "code",
   "execution_count": 101,
   "metadata": {},
   "outputs": [
    {
     "data": {
      "text/plain": [
       "type\n",
       "A    1466012.70\n",
       "B      55311.52\n",
       "Name: weekly_sales, dtype: float64"
      ]
     },
     "execution_count": 101,
     "metadata": {},
     "output_type": "execute_result"
    }
   ],
   "source": [
    "# Group by type; calc total weekly sales\n",
    "sales_by_type = df.groupby(\"type\")[\"weekly_sales\"].sum()\n",
    "sales_by_type"
   ]
  },
  {
   "cell_type": "code",
   "execution_count": 102,
   "metadata": {},
   "outputs": [
    {
     "name": "stdout",
     "output_type": "stream",
     "text": [
      "type  is_holiday\n",
      "A     False         1428064.90\n",
      "      True            37947.80\n",
      "B     False           23082.14\n",
      "      True            32229.38\n",
      "Name: weekly_sales, dtype: float64\n"
     ]
    }
   ],
   "source": [
    "# Group by type and is_holiday; calc total weekly sales\n",
    "sales_by_type_is_holiday = df.groupby([\"type\", \"is_holiday\"])[\"weekly_sales\"].sum()\n",
    "print(sales_by_type_is_holiday)"
   ]
  },
  {
   "cell_type": "markdown",
   "metadata": {},
   "source": [
    "# Multiple grouped summaries"
   ]
  },
  {
   "cell_type": "code",
   "execution_count": 109,
   "metadata": {},
   "outputs": [
    {
     "data": {
      "text/html": [
       "<div>\n",
       "<style scoped>\n",
       "    .dataframe tbody tr th:only-of-type {\n",
       "        vertical-align: middle;\n",
       "    }\n",
       "\n",
       "    .dataframe tbody tr th {\n",
       "        vertical-align: top;\n",
       "    }\n",
       "\n",
       "    .dataframe thead th {\n",
       "        text-align: right;\n",
       "    }\n",
       "</style>\n",
       "<table border=\"1\" class=\"dataframe\">\n",
       "  <thead>\n",
       "    <tr style=\"text-align: right;\">\n",
       "      <th></th>\n",
       "      <th>amin</th>\n",
       "      <th>amax</th>\n",
       "    </tr>\n",
       "    <tr>\n",
       "      <th>type</th>\n",
       "      <th></th>\n",
       "      <th></th>\n",
       "    </tr>\n",
       "  </thead>\n",
       "  <tbody>\n",
       "    <tr>\n",
       "      <th>A</th>\n",
       "      <td>7857.88</td>\n",
       "      <td>57258.43</td>\n",
       "    </tr>\n",
       "    <tr>\n",
       "      <th>B</th>\n",
       "      <td>23082.14</td>\n",
       "      <td>32229.38</td>\n",
       "    </tr>\n",
       "  </tbody>\n",
       "</table>\n",
       "</div>"
      ],
      "text/plain": [
       "          amin      amax\n",
       "type                    \n",
       "A      7857.88  57258.43\n",
       "B     23082.14  32229.38"
      ]
     },
     "execution_count": 109,
     "metadata": {},
     "output_type": "execute_result"
    }
   ],
   "source": [
    "# For each store type, aggregate weekly_sales: get min, max, mean, and median\n",
    "sales_stats = df.groupby(\"type\")[\"weekly_sales\"].agg([np.min, np.max])\n",
    "sales_stats"
   ]
  },
  {
   "cell_type": "code",
   "execution_count": 111,
   "metadata": {},
   "outputs": [
    {
     "data": {
      "text/html": [
       "<div>\n",
       "<style scoped>\n",
       "    .dataframe tbody tr th:only-of-type {\n",
       "        vertical-align: middle;\n",
       "    }\n",
       "\n",
       "    .dataframe tbody tr th {\n",
       "        vertical-align: top;\n",
       "    }\n",
       "\n",
       "    .dataframe thead tr th {\n",
       "        text-align: left;\n",
       "    }\n",
       "\n",
       "    .dataframe thead tr:last-of-type th {\n",
       "        text-align: right;\n",
       "    }\n",
       "</style>\n",
       "<table border=\"1\" class=\"dataframe\">\n",
       "  <thead>\n",
       "    <tr>\n",
       "      <th></th>\n",
       "      <th colspan=\"2\" halign=\"left\">unemployment</th>\n",
       "      <th colspan=\"2\" halign=\"left\">fuel_price_usd_per_l</th>\n",
       "    </tr>\n",
       "    <tr>\n",
       "      <th></th>\n",
       "      <th>amin</th>\n",
       "      <th>amax</th>\n",
       "      <th>amin</th>\n",
       "      <th>amax</th>\n",
       "    </tr>\n",
       "    <tr>\n",
       "      <th>type</th>\n",
       "      <th></th>\n",
       "      <th></th>\n",
       "      <th></th>\n",
       "      <th></th>\n",
       "    </tr>\n",
       "  </thead>\n",
       "  <tbody>\n",
       "    <tr>\n",
       "      <th>A</th>\n",
       "      <td>7.742</td>\n",
       "      <td>8.106</td>\n",
       "      <td>0.679451</td>\n",
       "      <td>0.786176</td>\n",
       "    </tr>\n",
       "    <tr>\n",
       "      <th>B</th>\n",
       "      <td>8.106</td>\n",
       "      <td>8.106</td>\n",
       "      <td>0.679451</td>\n",
       "      <td>0.693452</td>\n",
       "    </tr>\n",
       "  </tbody>\n",
       "</table>\n",
       "</div>"
      ],
      "text/plain": [
       "     unemployment        fuel_price_usd_per_l          \n",
       "             amin   amax                 amin      amax\n",
       "type                                                   \n",
       "A           7.742  8.106             0.679451  0.786176\n",
       "B           8.106  8.106             0.679451  0.693452"
      ]
     },
     "execution_count": 111,
     "metadata": {},
     "output_type": "execute_result"
    }
   ],
   "source": [
    "# For each store type, aggregate unemployment and fuel_price_usd_per_l: get min, max, mean, and median\n",
    "unemp_fuel_stats = df.groupby(\"type\")[[\"unemployment\", \"fuel_price_usd_per_l\"]].agg([np.min, np.max])\n",
    "unemp_fuel_stats"
   ]
  },
  {
   "cell_type": "markdown",
   "metadata": {},
   "source": [
    "# Pivoting on one variable"
   ]
  },
  {
   "cell_type": "code",
   "execution_count": 116,
   "metadata": {},
   "outputs": [
    {
     "data": {
      "text/html": [
       "<div>\n",
       "<style scoped>\n",
       "    .dataframe tbody tr th:only-of-type {\n",
       "        vertical-align: middle;\n",
       "    }\n",
       "\n",
       "    .dataframe tbody tr th {\n",
       "        vertical-align: top;\n",
       "    }\n",
       "\n",
       "    .dataframe thead tr th {\n",
       "        text-align: left;\n",
       "    }\n",
       "\n",
       "    .dataframe thead tr:last-of-type th {\n",
       "        text-align: right;\n",
       "    }\n",
       "</style>\n",
       "<table border=\"1\" class=\"dataframe\">\n",
       "  <thead>\n",
       "    <tr>\n",
       "      <th></th>\n",
       "      <th>amin</th>\n",
       "      <th>amax</th>\n",
       "    </tr>\n",
       "    <tr>\n",
       "      <th></th>\n",
       "      <th>weekly_sales</th>\n",
       "      <th>weekly_sales</th>\n",
       "    </tr>\n",
       "    <tr>\n",
       "      <th>type</th>\n",
       "      <th></th>\n",
       "      <th></th>\n",
       "    </tr>\n",
       "  </thead>\n",
       "  <tbody>\n",
       "    <tr>\n",
       "      <th>A</th>\n",
       "      <td>7857.88</td>\n",
       "      <td>57258.43</td>\n",
       "    </tr>\n",
       "    <tr>\n",
       "      <th>B</th>\n",
       "      <td>23082.14</td>\n",
       "      <td>32229.38</td>\n",
       "    </tr>\n",
       "  </tbody>\n",
       "</table>\n",
       "</div>"
      ],
      "text/plain": [
       "             amin         amax\n",
       "     weekly_sales weekly_sales\n",
       "type                          \n",
       "A         7857.88     57258.43\n",
       "B        23082.14     32229.38"
      ]
     },
     "execution_count": 116,
     "metadata": {},
     "output_type": "execute_result"
    }
   ],
   "source": [
    "# Pivot for mean and median weekly_sales for each store type\n",
    "mean_med_sales_by_type = df.pivot_table(values='weekly_sales', index='type', aggfunc=[np.min, np.max])\n",
    "mean_med_sales_by_type"
   ]
  },
  {
   "cell_type": "code",
   "execution_count": 118,
   "metadata": {},
   "outputs": [
    {
     "data": {
      "text/html": [
       "<div>\n",
       "<style scoped>\n",
       "    .dataframe tbody tr th:only-of-type {\n",
       "        vertical-align: middle;\n",
       "    }\n",
       "\n",
       "    .dataframe tbody tr th {\n",
       "        vertical-align: top;\n",
       "    }\n",
       "\n",
       "    .dataframe thead th {\n",
       "        text-align: right;\n",
       "    }\n",
       "</style>\n",
       "<table border=\"1\" class=\"dataframe\">\n",
       "  <thead>\n",
       "    <tr style=\"text-align: right;\">\n",
       "      <th>is_holiday</th>\n",
       "      <th>False</th>\n",
       "      <th>True</th>\n",
       "    </tr>\n",
       "    <tr>\n",
       "      <th>type</th>\n",
       "      <th></th>\n",
       "      <th></th>\n",
       "    </tr>\n",
       "  </thead>\n",
       "  <tbody>\n",
       "    <tr>\n",
       "      <th>A</th>\n",
       "      <td>57258.43</td>\n",
       "      <td>37947.80</td>\n",
       "    </tr>\n",
       "    <tr>\n",
       "      <th>B</th>\n",
       "      <td>23082.14</td>\n",
       "      <td>32229.38</td>\n",
       "    </tr>\n",
       "  </tbody>\n",
       "</table>\n",
       "</div>"
      ],
      "text/plain": [
       "is_holiday     False     True \n",
       "type                          \n",
       "A           57258.43  37947.80\n",
       "B           23082.14  32229.38"
      ]
     },
     "execution_count": 118,
     "metadata": {},
     "output_type": "execute_result"
    }
   ],
   "source": [
    "# Pivot for mean weekly_sales by store type and holiday \n",
    "mean_sales_by_type_holiday = df.pivot_table(values='weekly_sales', index='type', columns='is_holiday', aggfunc=np.max)\n",
    "mean_sales_by_type_holiday"
   ]
  },
  {
   "cell_type": "code",
   "execution_count": 121,
   "metadata": {},
   "outputs": [],
   "source": [
    "# Print the mean weekly_sales by department and type; fill missing values with 0s; sum all rows and cols\n",
    "#df.pivot_table(values=\"weekly_sales\", index=\"department\", columns=\"type\", fill_value=0, margins=True)"
   ]
  },
  {
   "cell_type": "code",
   "execution_count": null,
   "metadata": {},
   "outputs": [],
   "source": []
  }
 ],
 "metadata": {
  "kernelspec": {
   "display_name": "Python 3",
   "language": "python",
   "name": "python3"
  },
  "language_info": {
   "codemirror_mode": {
    "name": "ipython",
    "version": 3
   },
   "file_extension": ".py",
   "mimetype": "text/x-python",
   "name": "python",
   "nbconvert_exporter": "python",
   "pygments_lexer": "ipython3",
   "version": "3.6.9"
  }
 },
 "nbformat": 4,
 "nbformat_minor": 4
}

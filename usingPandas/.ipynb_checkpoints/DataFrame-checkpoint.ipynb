{
 "cells": [
  {
   "cell_type": "code",
   "execution_count": 3,
   "metadata": {},
   "outputs": [],
   "source": [
    "import pandas as pd\n",
    "import numpy as np"
   ]
  },
  {
   "cell_type": "markdown",
   "metadata": {},
   "source": [
    "Data -> homelessness in each U.S. state in 2018"
   ]
  },
  {
   "cell_type": "code",
   "execution_count": 8,
   "metadata": {},
   "outputs": [],
   "source": [
    "homelessness = np.array([['East South Central', 'Alabama', 2570.0, 864.0, 4887681],\n",
    "       ['Pacific', 'Alaska', 1434.0, 582.0, 735139],\n",
    "       ['Mountain', 'Arizona', 7259.0, 2606.0, 7158024],\n",
    "       ['West South Central', 'Arkansas', 2280.0, 432.0, 3009733],\n",
    "       ['Pacific', 'California', 109008.0, 20964.0, 39461588],\n",
    "       ['Mountain', 'Colorado', 7607.0, 3250.0, 5691287],\n",
    "       ['New England', 'Connecticut', 2280.0, 1696.0, 3571520],\n",
    "       ['South Atlantic', 'Delaware', 708.0, 374.0, 965479],\n",
    "       ['South Atlantic', 'District of Columbia', 3770.0, 3134.0, 701547],\n",
    "       ['South Atlantic', 'Florida', 21443.0, 9587.0, 21244317],\n",
    "       ['South Atlantic', 'Georgia', 6943.0, 2556.0, 10511131],\n",
    "       ['Pacific', 'Hawaii', 4131.0, 2399.0, 1420593],\n",
    "       ['Mountain', 'Idaho', 1297.0, 715.0, 1750536],\n",
    "       ['East North Central', 'Illinois', 6752.0, 3891.0, 12723071],\n",
    "       ['East North Central', 'Indiana', 3776.0, 1482.0, 6695497],\n",
    "       ['West North Central', 'Iowa', 1711.0, 1038.0, 3148618],\n",
    "       ['West North Central', 'Kansas', 1443.0, 773.0, 2911359],\n",
    "       ['East South Central', 'Kentucky', 2735.0, 953.0, 4461153],\n",
    "       ['West South Central', 'Louisiana', 2540.0, 519.0, 4659690],\n",
    "       ['New England', 'Maine', 1450.0, 1066.0, 1339057],\n",
    "       ['South Atlantic', 'Maryland', 4914.0, 2230.0, 6035802],\n",
    "       ['New England', 'Massachusetts', 6811.0, 13257.0, 6882635],\n",
    "       ['East North Central', 'Michigan', 5209.0, 3142.0, 9984072],\n",
    "       ['West North Central', 'Minnesota', 3993.0, 3250.0, 5606249],\n",
    "       ['East South Central', 'Mississippi', 1024.0, 328.0, 2981020],\n",
    "       ['West North Central', 'Missouri', 3776.0, 2107.0, 6121623],\n",
    "       ['Mountain', 'Montana', 983.0, 422.0, 1060665],\n",
    "       ['West North Central', 'Nebraska', 1745.0, 676.0, 1925614],\n",
    "       ['Mountain', 'Nevada', 7058.0, 486.0, 3027341],\n",
    "       ['New England', 'New Hampshire', 835.0, 615.0, 1353465],\n",
    "       ['Mid-Atlantic', 'New Jersey', 6048.0, 3350.0, 8886025],\n",
    "       ['Mountain', 'New Mexico', 1949.0, 602.0, 2092741],\n",
    "       ['Mid-Atlantic', 'New York', 39827.0, 52070.0, 19530351],\n",
    "       ['South Atlantic', 'North Carolina', 6451.0, 2817.0, 10381615],\n",
    "       ['West North Central', 'North Dakota', 467.0, 75.0, 758080],\n",
    "       ['East North Central', 'Ohio', 6929.0, 3320.0, 11676341],\n",
    "       ['West South Central', 'Oklahoma', 2823.0, 1048.0, 3940235],\n",
    "       ['Pacific', 'Oregon', 11139.0, 3337.0, 4181886],\n",
    "       ['Mid-Atlantic', 'Pennsylvania', 8163.0, 5349.0, 12800922],\n",
    "       ['New England', 'Rhode Island', 747.0, 354.0, 1058287],\n",
    "       ['South Atlantic', 'South Carolina', 3082.0, 851.0, 5084156],\n",
    "       ['West North Central', 'South Dakota', 836.0, 323.0, 878698],\n",
    "       ['East South Central', 'Tennessee', 6139.0, 1744.0, 6771631],\n",
    "       ['West South Central', 'Texas', 19199.0, 6111.0, 28628666],\n",
    "       ['Mountain', 'Utah', 1904.0, 972.0, 3153550],\n",
    "       ['New England', 'Vermont', 780.0, 511.0, 624358],\n",
    "       ['South Atlantic', 'Virginia', 3928.0, 2047.0, 8501286],\n",
    "       ['Pacific', 'Washington', 16424.0, 5880.0, 7523869],\n",
    "       ['South Atlantic', 'West Virginia', 1021.0, 222.0, 1804291],\n",
    "       ['East North Central', 'Wisconsin', 2740.0, 2167.0, 5807406],\n",
    "       ['Mountain', 'Wyoming', 434.0, 205.0, 577601]], dtype=object)"
   ]
  },
  {
   "cell_type": "code",
   "execution_count": 11,
   "metadata": {},
   "outputs": [],
   "source": [
    "df = pd.DataFrame(homelessness, columns=['region', 'state', 'individuals', 'family_members', 'state_pop'])"
   ]
  },
  {
   "cell_type": "code",
   "execution_count": 13,
   "metadata": {},
   "outputs": [
    {
     "data": {
      "text/html": [
       "<div>\n",
       "<style scoped>\n",
       "    .dataframe tbody tr th:only-of-type {\n",
       "        vertical-align: middle;\n",
       "    }\n",
       "\n",
       "    .dataframe tbody tr th {\n",
       "        vertical-align: top;\n",
       "    }\n",
       "\n",
       "    .dataframe thead th {\n",
       "        text-align: right;\n",
       "    }\n",
       "</style>\n",
       "<table border=\"1\" class=\"dataframe\">\n",
       "  <thead>\n",
       "    <tr style=\"text-align: right;\">\n",
       "      <th></th>\n",
       "      <th>region</th>\n",
       "      <th>state</th>\n",
       "      <th>individuals</th>\n",
       "      <th>family_members</th>\n",
       "      <th>state_pop</th>\n",
       "    </tr>\n",
       "  </thead>\n",
       "  <tbody>\n",
       "    <tr>\n",
       "      <th>0</th>\n",
       "      <td>East South Central</td>\n",
       "      <td>Alabama</td>\n",
       "      <td>2570</td>\n",
       "      <td>864</td>\n",
       "      <td>4887681</td>\n",
       "    </tr>\n",
       "    <tr>\n",
       "      <th>1</th>\n",
       "      <td>Pacific</td>\n",
       "      <td>Alaska</td>\n",
       "      <td>1434</td>\n",
       "      <td>582</td>\n",
       "      <td>735139</td>\n",
       "    </tr>\n",
       "    <tr>\n",
       "      <th>2</th>\n",
       "      <td>Mountain</td>\n",
       "      <td>Arizona</td>\n",
       "      <td>7259</td>\n",
       "      <td>2606</td>\n",
       "      <td>7158024</td>\n",
       "    </tr>\n",
       "    <tr>\n",
       "      <th>3</th>\n",
       "      <td>West South Central</td>\n",
       "      <td>Arkansas</td>\n",
       "      <td>2280</td>\n",
       "      <td>432</td>\n",
       "      <td>3009733</td>\n",
       "    </tr>\n",
       "    <tr>\n",
       "      <th>4</th>\n",
       "      <td>Pacific</td>\n",
       "      <td>California</td>\n",
       "      <td>109008</td>\n",
       "      <td>20964</td>\n",
       "      <td>39461588</td>\n",
       "    </tr>\n",
       "  </tbody>\n",
       "</table>\n",
       "</div>"
      ],
      "text/plain": [
       "               region       state individuals family_members state_pop\n",
       "0  East South Central     Alabama        2570            864   4887681\n",
       "1             Pacific      Alaska        1434            582    735139\n",
       "2            Mountain     Arizona        7259           2606   7158024\n",
       "3  West South Central    Arkansas        2280            432   3009733\n",
       "4             Pacific  California      109008          20964  39461588"
      ]
     },
     "execution_count": 13,
     "metadata": {},
     "output_type": "execute_result"
    }
   ],
   "source": [
    "#returns the first few rows \n",
    "df.head()"
   ]
  },
  {
   "cell_type": "code",
   "execution_count": 14,
   "metadata": {},
   "outputs": [
    {
     "name": "stdout",
     "output_type": "stream",
     "text": [
      "<class 'pandas.core.frame.DataFrame'>\n",
      "RangeIndex: 51 entries, 0 to 50\n",
      "Data columns (total 5 columns):\n",
      "region            51 non-null object\n",
      "state             51 non-null object\n",
      "individuals       51 non-null object\n",
      "family_members    51 non-null object\n",
      "state_pop         51 non-null object\n",
      "dtypes: object(5)\n",
      "memory usage: 2.1+ KB\n"
     ]
    }
   ],
   "source": [
    "# shows information on each of the columns, such as the data type and number of missing values.\n",
    "df.info()"
   ]
  },
  {
   "cell_type": "code",
   "execution_count": 15,
   "metadata": {},
   "outputs": [
    {
     "data": {
      "text/plain": [
       "(51, 5)"
      ]
     },
     "execution_count": 15,
     "metadata": {},
     "output_type": "execute_result"
    }
   ],
   "source": [
    "#returns the number of rows and columns of the DataFrame\n",
    "df.shape"
   ]
  },
  {
   "cell_type": "code",
   "execution_count": 16,
   "metadata": {},
   "outputs": [
    {
     "data": {
      "text/html": [
       "<div>\n",
       "<style scoped>\n",
       "    .dataframe tbody tr th:only-of-type {\n",
       "        vertical-align: middle;\n",
       "    }\n",
       "\n",
       "    .dataframe tbody tr th {\n",
       "        vertical-align: top;\n",
       "    }\n",
       "\n",
       "    .dataframe thead th {\n",
       "        text-align: right;\n",
       "    }\n",
       "</style>\n",
       "<table border=\"1\" class=\"dataframe\">\n",
       "  <thead>\n",
       "    <tr style=\"text-align: right;\">\n",
       "      <th></th>\n",
       "      <th>region</th>\n",
       "      <th>state</th>\n",
       "      <th>individuals</th>\n",
       "      <th>family_members</th>\n",
       "      <th>state_pop</th>\n",
       "    </tr>\n",
       "  </thead>\n",
       "  <tbody>\n",
       "    <tr>\n",
       "      <th>count</th>\n",
       "      <td>51</td>\n",
       "      <td>51</td>\n",
       "      <td>51.0</td>\n",
       "      <td>51.0</td>\n",
       "      <td>51</td>\n",
       "    </tr>\n",
       "    <tr>\n",
       "      <th>unique</th>\n",
       "      <td>9</td>\n",
       "      <td>51</td>\n",
       "      <td>49.0</td>\n",
       "      <td>50.0</td>\n",
       "      <td>51</td>\n",
       "    </tr>\n",
       "    <tr>\n",
       "      <th>top</th>\n",
       "      <td>South Atlantic</td>\n",
       "      <td>Connecticut</td>\n",
       "      <td>2280.0</td>\n",
       "      <td>3250.0</td>\n",
       "      <td>12723071</td>\n",
       "    </tr>\n",
       "    <tr>\n",
       "      <th>freq</th>\n",
       "      <td>9</td>\n",
       "      <td>1</td>\n",
       "      <td>2.0</td>\n",
       "      <td>2.0</td>\n",
       "      <td>1</td>\n",
       "    </tr>\n",
       "  </tbody>\n",
       "</table>\n",
       "</div>"
      ],
      "text/plain": [
       "                region        state  individuals  family_members  state_pop\n",
       "count               51           51         51.0            51.0         51\n",
       "unique               9           51         49.0            50.0         51\n",
       "top     South Atlantic  Connecticut       2280.0          3250.0   12723071\n",
       "freq                 9            1          2.0             2.0          1"
      ]
     },
     "execution_count": 16,
     "metadata": {},
     "output_type": "execute_result"
    }
   ],
   "source": [
    "#calculates a few summary statistics for each column.\n",
    "df.describe()"
   ]
  },
  {
   "cell_type": "code",
   "execution_count": 18,
   "metadata": {},
   "outputs": [
    {
     "data": {
      "text/plain": [
       "Index(['region', 'state', 'individuals', 'family_members', 'state_pop'], dtype='object')"
      ]
     },
     "execution_count": 18,
     "metadata": {},
     "output_type": "execute_result"
    }
   ],
   "source": [
    "#An index of columns: the column names.\n",
    "df.columns"
   ]
  },
  {
   "cell_type": "code",
   "execution_count": 19,
   "metadata": {},
   "outputs": [
    {
     "data": {
      "text/plain": [
       "array([['East South Central', 'Alabama', 2570.0, 864.0, 4887681],\n",
       "       ['Pacific', 'Alaska', 1434.0, 582.0, 735139],\n",
       "       ['Mountain', 'Arizona', 7259.0, 2606.0, 7158024],\n",
       "       ['West South Central', 'Arkansas', 2280.0, 432.0, 3009733],\n",
       "       ['Pacific', 'California', 109008.0, 20964.0, 39461588],\n",
       "       ['Mountain', 'Colorado', 7607.0, 3250.0, 5691287],\n",
       "       ['New England', 'Connecticut', 2280.0, 1696.0, 3571520],\n",
       "       ['South Atlantic', 'Delaware', 708.0, 374.0, 965479],\n",
       "       ['South Atlantic', 'District of Columbia', 3770.0, 3134.0, 701547],\n",
       "       ['South Atlantic', 'Florida', 21443.0, 9587.0, 21244317],\n",
       "       ['South Atlantic', 'Georgia', 6943.0, 2556.0, 10511131],\n",
       "       ['Pacific', 'Hawaii', 4131.0, 2399.0, 1420593],\n",
       "       ['Mountain', 'Idaho', 1297.0, 715.0, 1750536],\n",
       "       ['East North Central', 'Illinois', 6752.0, 3891.0, 12723071],\n",
       "       ['East North Central', 'Indiana', 3776.0, 1482.0, 6695497],\n",
       "       ['West North Central', 'Iowa', 1711.0, 1038.0, 3148618],\n",
       "       ['West North Central', 'Kansas', 1443.0, 773.0, 2911359],\n",
       "       ['East South Central', 'Kentucky', 2735.0, 953.0, 4461153],\n",
       "       ['West South Central', 'Louisiana', 2540.0, 519.0, 4659690],\n",
       "       ['New England', 'Maine', 1450.0, 1066.0, 1339057],\n",
       "       ['South Atlantic', 'Maryland', 4914.0, 2230.0, 6035802],\n",
       "       ['New England', 'Massachusetts', 6811.0, 13257.0, 6882635],\n",
       "       ['East North Central', 'Michigan', 5209.0, 3142.0, 9984072],\n",
       "       ['West North Central', 'Minnesota', 3993.0, 3250.0, 5606249],\n",
       "       ['East South Central', 'Mississippi', 1024.0, 328.0, 2981020],\n",
       "       ['West North Central', 'Missouri', 3776.0, 2107.0, 6121623],\n",
       "       ['Mountain', 'Montana', 983.0, 422.0, 1060665],\n",
       "       ['West North Central', 'Nebraska', 1745.0, 676.0, 1925614],\n",
       "       ['Mountain', 'Nevada', 7058.0, 486.0, 3027341],\n",
       "       ['New England', 'New Hampshire', 835.0, 615.0, 1353465],\n",
       "       ['Mid-Atlantic', 'New Jersey', 6048.0, 3350.0, 8886025],\n",
       "       ['Mountain', 'New Mexico', 1949.0, 602.0, 2092741],\n",
       "       ['Mid-Atlantic', 'New York', 39827.0, 52070.0, 19530351],\n",
       "       ['South Atlantic', 'North Carolina', 6451.0, 2817.0, 10381615],\n",
       "       ['West North Central', 'North Dakota', 467.0, 75.0, 758080],\n",
       "       ['East North Central', 'Ohio', 6929.0, 3320.0, 11676341],\n",
       "       ['West South Central', 'Oklahoma', 2823.0, 1048.0, 3940235],\n",
       "       ['Pacific', 'Oregon', 11139.0, 3337.0, 4181886],\n",
       "       ['Mid-Atlantic', 'Pennsylvania', 8163.0, 5349.0, 12800922],\n",
       "       ['New England', 'Rhode Island', 747.0, 354.0, 1058287],\n",
       "       ['South Atlantic', 'South Carolina', 3082.0, 851.0, 5084156],\n",
       "       ['West North Central', 'South Dakota', 836.0, 323.0, 878698],\n",
       "       ['East South Central', 'Tennessee', 6139.0, 1744.0, 6771631],\n",
       "       ['West South Central', 'Texas', 19199.0, 6111.0, 28628666],\n",
       "       ['Mountain', 'Utah', 1904.0, 972.0, 3153550],\n",
       "       ['New England', 'Vermont', 780.0, 511.0, 624358],\n",
       "       ['South Atlantic', 'Virginia', 3928.0, 2047.0, 8501286],\n",
       "       ['Pacific', 'Washington', 16424.0, 5880.0, 7523869],\n",
       "       ['South Atlantic', 'West Virginia', 1021.0, 222.0, 1804291],\n",
       "       ['East North Central', 'Wisconsin', 2740.0, 2167.0, 5807406],\n",
       "       ['Mountain', 'Wyoming', 434.0, 205.0, 577601]], dtype=object)"
      ]
     },
     "execution_count": 19,
     "metadata": {},
     "output_type": "execute_result"
    }
   ],
   "source": [
    "#A two-dimensional NumPy array of values.\n",
    "df.values"
   ]
  },
  {
   "cell_type": "code",
   "execution_count": 20,
   "metadata": {},
   "outputs": [
    {
     "data": {
      "text/plain": [
       "RangeIndex(start=0, stop=51, step=1)"
      ]
     },
     "execution_count": 20,
     "metadata": {},
     "output_type": "execute_result"
    }
   ],
   "source": [
    "#An index for the rows: either row numbers or row names.\n",
    "df.index"
   ]
  },
  {
   "cell_type": "code",
   "execution_count": 24,
   "metadata": {},
   "outputs": [
    {
     "data": {
      "text/html": [
       "<div>\n",
       "<style scoped>\n",
       "    .dataframe tbody tr th:only-of-type {\n",
       "        vertical-align: middle;\n",
       "    }\n",
       "\n",
       "    .dataframe tbody tr th {\n",
       "        vertical-align: top;\n",
       "    }\n",
       "\n",
       "    .dataframe thead th {\n",
       "        text-align: right;\n",
       "    }\n",
       "</style>\n",
       "<table border=\"1\" class=\"dataframe\">\n",
       "  <thead>\n",
       "    <tr style=\"text-align: right;\">\n",
       "      <th></th>\n",
       "      <th>region</th>\n",
       "      <th>state</th>\n",
       "      <th>individuals</th>\n",
       "      <th>family_members</th>\n",
       "      <th>state_pop</th>\n",
       "    </tr>\n",
       "  </thead>\n",
       "  <tbody>\n",
       "    <tr>\n",
       "      <th>13</th>\n",
       "      <td>East North Central</td>\n",
       "      <td>Illinois</td>\n",
       "      <td>6752</td>\n",
       "      <td>3891</td>\n",
       "      <td>12723071</td>\n",
       "    </tr>\n",
       "    <tr>\n",
       "      <th>35</th>\n",
       "      <td>East North Central</td>\n",
       "      <td>Ohio</td>\n",
       "      <td>6929</td>\n",
       "      <td>3320</td>\n",
       "      <td>11676341</td>\n",
       "    </tr>\n",
       "    <tr>\n",
       "      <th>22</th>\n",
       "      <td>East North Central</td>\n",
       "      <td>Michigan</td>\n",
       "      <td>5209</td>\n",
       "      <td>3142</td>\n",
       "      <td>9984072</td>\n",
       "    </tr>\n",
       "    <tr>\n",
       "      <th>49</th>\n",
       "      <td>East North Central</td>\n",
       "      <td>Wisconsin</td>\n",
       "      <td>2740</td>\n",
       "      <td>2167</td>\n",
       "      <td>5807406</td>\n",
       "    </tr>\n",
       "    <tr>\n",
       "      <th>14</th>\n",
       "      <td>East North Central</td>\n",
       "      <td>Indiana</td>\n",
       "      <td>3776</td>\n",
       "      <td>1482</td>\n",
       "      <td>6695497</td>\n",
       "    </tr>\n",
       "  </tbody>\n",
       "</table>\n",
       "</div>"
      ],
      "text/plain": [
       "                region      state individuals family_members state_pop\n",
       "13  East North Central   Illinois        6752           3891  12723071\n",
       "35  East North Central       Ohio        6929           3320  11676341\n",
       "22  East North Central   Michigan        5209           3142   9984072\n",
       "49  East North Central  Wisconsin        2740           2167   5807406\n",
       "14  East North Central    Indiana        3776           1482   6695497"
      ]
     },
     "execution_count": 24,
     "metadata": {},
     "output_type": "execute_result"
    }
   ],
   "source": [
    "# Sort homelessness by region, then descending family members\n",
    "df.sort_values([\"region\",\"family_members\"], ascending=[True,False]).head()"
   ]
  },
  {
   "cell_type": "code",
   "execution_count": 27,
   "metadata": {},
   "outputs": [
    {
     "data": {
      "text/html": [
       "<div>\n",
       "<style scoped>\n",
       "    .dataframe tbody tr th:only-of-type {\n",
       "        vertical-align: middle;\n",
       "    }\n",
       "\n",
       "    .dataframe tbody tr th {\n",
       "        vertical-align: top;\n",
       "    }\n",
       "\n",
       "    .dataframe thead th {\n",
       "        text-align: right;\n",
       "    }\n",
       "</style>\n",
       "<table border=\"1\" class=\"dataframe\">\n",
       "  <thead>\n",
       "    <tr style=\"text-align: right;\">\n",
       "      <th></th>\n",
       "      <th>region</th>\n",
       "      <th>state</th>\n",
       "      <th>individuals</th>\n",
       "      <th>family_members</th>\n",
       "      <th>state_pop</th>\n",
       "    </tr>\n",
       "  </thead>\n",
       "  <tbody>\n",
       "    <tr>\n",
       "      <th>1</th>\n",
       "      <td>Pacific</td>\n",
       "      <td>Alaska</td>\n",
       "      <td>1434</td>\n",
       "      <td>582</td>\n",
       "      <td>735139</td>\n",
       "    </tr>\n",
       "  </tbody>\n",
       "</table>\n",
       "</div>"
      ],
      "text/plain": [
       "    region   state individuals family_members state_pop\n",
       "1  Pacific  Alaska        1434            582    735139"
      ]
     },
     "execution_count": 27,
     "metadata": {},
     "output_type": "execute_result"
    }
   ],
   "source": [
    "# Filter for rows where family_members is less than 1000 \n",
    "# and region is Pacific\n",
    "df[(df[\"family_members\"]<1000) & (df[\"region\"]==\"Pacific\")]"
   ]
  },
  {
   "cell_type": "code",
   "execution_count": 29,
   "metadata": {},
   "outputs": [
    {
     "data": {
      "text/html": [
       "<div>\n",
       "<style scoped>\n",
       "    .dataframe tbody tr th:only-of-type {\n",
       "        vertical-align: middle;\n",
       "    }\n",
       "\n",
       "    .dataframe tbody tr th {\n",
       "        vertical-align: top;\n",
       "    }\n",
       "\n",
       "    .dataframe thead th {\n",
       "        text-align: right;\n",
       "    }\n",
       "</style>\n",
       "<table border=\"1\" class=\"dataframe\">\n",
       "  <thead>\n",
       "    <tr style=\"text-align: right;\">\n",
       "      <th></th>\n",
       "      <th>region</th>\n",
       "      <th>state</th>\n",
       "      <th>individuals</th>\n",
       "      <th>family_members</th>\n",
       "      <th>state_pop</th>\n",
       "    </tr>\n",
       "  </thead>\n",
       "  <tbody>\n",
       "    <tr>\n",
       "      <th>2</th>\n",
       "      <td>Mountain</td>\n",
       "      <td>Arizona</td>\n",
       "      <td>7259</td>\n",
       "      <td>2606</td>\n",
       "      <td>7158024</td>\n",
       "    </tr>\n",
       "    <tr>\n",
       "      <th>4</th>\n",
       "      <td>Pacific</td>\n",
       "      <td>California</td>\n",
       "      <td>109008</td>\n",
       "      <td>20964</td>\n",
       "      <td>39461588</td>\n",
       "    </tr>\n",
       "    <tr>\n",
       "      <th>28</th>\n",
       "      <td>Mountain</td>\n",
       "      <td>Nevada</td>\n",
       "      <td>7058</td>\n",
       "      <td>486</td>\n",
       "      <td>3027341</td>\n",
       "    </tr>\n",
       "    <tr>\n",
       "      <th>44</th>\n",
       "      <td>Mountain</td>\n",
       "      <td>Utah</td>\n",
       "      <td>1904</td>\n",
       "      <td>972</td>\n",
       "      <td>3153550</td>\n",
       "    </tr>\n",
       "  </tbody>\n",
       "</table>\n",
       "</div>"
      ],
      "text/plain": [
       "      region       state individuals family_members state_pop\n",
       "2   Mountain     Arizona        7259           2606   7158024\n",
       "4    Pacific  California      109008          20964  39461588\n",
       "28  Mountain      Nevada        7058            486   3027341\n",
       "44  Mountain        Utah        1904            972   3153550"
      ]
     },
     "execution_count": 29,
     "metadata": {},
     "output_type": "execute_result"
    }
   ],
   "source": [
    "# Filter for rows in the Mojave Desert states\n",
    "canu = [\"California\", \"Arizona\", \"Nevada\", \"Utah\"]\n",
    "\n",
    "df[df[\"state\"].isin(canu)]"
   ]
  },
  {
   "cell_type": "code",
   "execution_count": null,
   "metadata": {},
   "outputs": [],
   "source": []
  }
 ],
 "metadata": {
  "kernelspec": {
   "display_name": "Python 3",
   "language": "python",
   "name": "python3"
  },
  "language_info": {
   "codemirror_mode": {
    "name": "ipython",
    "version": 3
   },
   "file_extension": ".py",
   "mimetype": "text/x-python",
   "name": "python",
   "nbconvert_exporter": "python",
   "pygments_lexer": "ipython3",
   "version": "3.7.3"
  }
 },
 "nbformat": 4,
 "nbformat_minor": 2
}

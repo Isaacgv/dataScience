{
 "cells": [
  {
   "cell_type": "code",
   "execution_count": 2,
   "metadata": {},
   "outputs": [],
   "source": [
    "import matplotlib.pyplot as plt\n",
    "import numpy as np\n",
    "import pandas as pd"
   ]
  },
  {
   "cell_type": "code",
   "execution_count": 3,
   "metadata": {},
   "outputs": [],
   "source": [
    "avocados=np.array([['2015-01-11', 'conventional', 2015, 1.01, 'small', 11544810.53],\n",
    "       ['2017-12-03', 'conventional', 2017, 1.09, 'extra_large',\n",
    "        583801.0],\n",
    "       ['2015-04-26', 'organic', 2015, 1.45, 'small', 321733.2],\n",
    "       ['2016-05-08', 'conventional', 2016, 0.82, 'small', 14223304.98],\n",
    "       ['2017-07-30', 'conventional', 2017, 1.32, 'extra_large',\n",
    "        596676.12],\n",
    "       ['2015-02-15', 'organic', 2015, 1.58, 'extra_large', 4950.01],\n",
    "       ['2017-02-19', 'conventional', 2017, 0.99, 'extra_large',\n",
    "        832906.12],\n",
    "       ['2018-02-25', 'conventional', 2018, 1.06, 'small', 13829857.87],\n",
    "       ['2017-04-30', 'organic', 2017, 1.68, 'small', 199039.61],\n",
    "       ['2017-11-12', 'organic', 2017, 1.81, 'extra_large', 1074.64],\n",
    "       ['2017-03-12', 'conventional', 2017, 1.22, 'extra_large',\n",
    "        727233.05],\n",
    "       ['2016-08-14', 'conventional', 2016, 1.12, 'extra_large',\n",
    "        749247.02],\n",
    "       ['2015-04-19', 'organic', 2015, 1.59, 'extra_large', 6465.74],\n",
    "       ['2016-02-28', 'conventional', 2016, 0.91, 'small', 11907394.72],\n",
    "       ['2016-08-21', 'organic', 2016, 1.51, 'extra_large', 5831.02],\n",
    "       ['2015-02-08', 'conventional', 2015, 0.95, 'extra_large',\n",
    "        737939.45],\n",
    "       ['2016-03-13', 'conventional', 2016, 0.93, 'large', 13104887.66],\n",
    "       ['2015-03-15', 'organic', 2015, 1.5, 'small', 235569.01],\n",
    "       ['2016-09-18', 'organic', 2016, 1.67, 'small', 127014.67],\n",
    "       ['2017-01-15', 'organic', 2017, 1.44, 'extra_large', 8750.08],\n",
    "       ['2015-04-26', 'organic', 2015, 1.45, 'extra_large', 6150.07],\n",
    "       ['2015-03-01', 'conventional', 2015, 0.97, 'small', 13282222.98],\n",
    "       ['2017-06-18', 'conventional', 2017, 1.18, 'large', 11199448.6],\n",
    "       ['2015-05-31', 'conventional', 2015, 1.03, 'extra_large',\n",
    "        903908.35],\n",
    "       ['2017-12-31', 'organic', 2017, 1.52, 'small', 120545.76],\n",
    "       ['2017-09-24', 'conventional', 2017, 1.62, 'extra_large',\n",
    "        385004.72],\n",
    "       ['2016-07-03', 'conventional', 2016, 1.06, 'large', 13315901.42],\n",
    "       ['2015-09-13', 'conventional', 2015, 1.03, 'large', 14888077.69],\n",
    "       ['2015-06-21', 'organic', 2015, 1.66, 'large', 304368.47],\n",
    "       ['2017-03-26', 'organic', 2017, 1.29, 'small', 160491.66],\n",
    "       ['2017-07-02', 'organic', 2017, 1.74, 'large', 360890.48],\n",
    "       ['2017-06-25', 'conventional', 2017, 1.17, 'small', 12901031.63],\n",
    "       ['2016-01-17', 'organic', 2016, 1.44, 'small', 115992.81],\n",
    "       ['2015-11-08', 'conventional', 2015, 0.97, 'small', 9991330.31],\n",
    "       ['2017-01-15', 'conventional', 2017, 0.98, 'extra_large',\n",
    "        579346.52],\n",
    "       ['2016-05-29', 'conventional', 2016, 0.94, 'extra_large',\n",
    "        1583495.93],\n",
    "       ['2015-11-01', 'conventional', 2015, 0.97, 'large', 14229286.82],\n",
    "       ['2017-04-30', 'organic', 2017, 1.68, 'large', 421709.78],\n",
    "       ['2015-05-31', 'conventional', 2015, 1.03, 'large', 11599634.02],\n",
    "       ['2015-05-24', 'organic', 2015, 1.59, 'small', 234692.14],\n",
    "       ['2017-03-12', 'organic', 2017, 1.38, 'large', 330081.75],\n",
    "       ['2018-02-11', 'organic', 2018, 1.56, 'extra_large', 1839.8],\n",
    "       ['2017-05-07', 'conventional', 2017, 1.09, 'large', 13549102.59],\n",
    "       ['2016-11-20', 'conventional', 2016, 1.27, 'large', 8033510.82],\n",
    "       ['2016-08-07', 'conventional', 2016, 1.15, 'extra_large',\n",
    "        754548.53],\n",
    "       ['2015-06-28', 'conventional', 2015, 1.06, 'extra_large',\n",
    "        1045832.54],\n",
    "       ['2017-10-15', 'conventional', 2017, 1.58, 'large', 8534404.17],\n",
    "       ['2016-03-20', 'organic', 2016, 1.27, 'small', 105069.07],\n",
    "       ['2017-05-21', 'organic', 2017, 1.71, 'large', 351498.5],\n",
    "       ['2017-09-17', 'conventional', 2017, 1.57, 'extra_large',\n",
    "        417270.7]], dtype=object)\n"
   ]
  },
  {
   "cell_type": "code",
   "execution_count": 4,
   "metadata": {},
   "outputs": [],
   "source": [
    "avocados=pd.DataFrame(avocados, columns=['date', 'type', 'year', 'avg_price', 'size', 'nb_sold'])"
   ]
  },
  {
   "cell_type": "code",
   "execution_count": 6,
   "metadata": {},
   "outputs": [
    {
     "data": {
      "text/html": [
       "<div>\n",
       "<style scoped>\n",
       "    .dataframe tbody tr th:only-of-type {\n",
       "        vertical-align: middle;\n",
       "    }\n",
       "\n",
       "    .dataframe tbody tr th {\n",
       "        vertical-align: top;\n",
       "    }\n",
       "\n",
       "    .dataframe thead th {\n",
       "        text-align: right;\n",
       "    }\n",
       "</style>\n",
       "<table border=\"1\" class=\"dataframe\">\n",
       "  <thead>\n",
       "    <tr style=\"text-align: right;\">\n",
       "      <th></th>\n",
       "      <th>date</th>\n",
       "      <th>type</th>\n",
       "      <th>year</th>\n",
       "      <th>avg_price</th>\n",
       "      <th>size</th>\n",
       "      <th>nb_sold</th>\n",
       "    </tr>\n",
       "  </thead>\n",
       "  <tbody>\n",
       "    <tr>\n",
       "      <th>0</th>\n",
       "      <td>2015-01-11</td>\n",
       "      <td>conventional</td>\n",
       "      <td>2015</td>\n",
       "      <td>1.01</td>\n",
       "      <td>small</td>\n",
       "      <td>1.15448e+07</td>\n",
       "    </tr>\n",
       "    <tr>\n",
       "      <th>1</th>\n",
       "      <td>2017-12-03</td>\n",
       "      <td>conventional</td>\n",
       "      <td>2017</td>\n",
       "      <td>1.09</td>\n",
       "      <td>extra_large</td>\n",
       "      <td>583801</td>\n",
       "    </tr>\n",
       "    <tr>\n",
       "      <th>2</th>\n",
       "      <td>2015-04-26</td>\n",
       "      <td>organic</td>\n",
       "      <td>2015</td>\n",
       "      <td>1.45</td>\n",
       "      <td>small</td>\n",
       "      <td>321733</td>\n",
       "    </tr>\n",
       "    <tr>\n",
       "      <th>3</th>\n",
       "      <td>2016-05-08</td>\n",
       "      <td>conventional</td>\n",
       "      <td>2016</td>\n",
       "      <td>0.82</td>\n",
       "      <td>small</td>\n",
       "      <td>1.42233e+07</td>\n",
       "    </tr>\n",
       "    <tr>\n",
       "      <th>4</th>\n",
       "      <td>2017-07-30</td>\n",
       "      <td>conventional</td>\n",
       "      <td>2017</td>\n",
       "      <td>1.32</td>\n",
       "      <td>extra_large</td>\n",
       "      <td>596676</td>\n",
       "    </tr>\n",
       "  </tbody>\n",
       "</table>\n",
       "</div>"
      ],
      "text/plain": [
       "         date          type  year avg_price         size      nb_sold\n",
       "0  2015-01-11  conventional  2015      1.01        small  1.15448e+07\n",
       "1  2017-12-03  conventional  2017      1.09  extra_large       583801\n",
       "2  2015-04-26       organic  2015      1.45        small       321733\n",
       "3  2016-05-08  conventional  2016      0.82        small  1.42233e+07\n",
       "4  2017-07-30  conventional  2017      1.32  extra_large       596676"
      ]
     },
     "execution_count": 6,
     "metadata": {},
     "output_type": "execute_result"
    }
   ],
   "source": [
    "avocados.head()"
   ]
  },
  {
   "cell_type": "code",
   "execution_count": 12,
   "metadata": {},
   "outputs": [
    {
     "data": {
      "text/plain": [
       "size\n",
       "extra_large    9.932271e+06\n",
       "large          1.102228e+08\n",
       "small          8.930010e+07\n",
       "Name: nb_sold, dtype: float64"
      ]
     },
     "execution_count": 12,
     "metadata": {},
     "output_type": "execute_result"
    }
   ],
   "source": [
    "# Get the total number of avocados sold of each size\n",
    "nb_sold_by_size = avocados.groupby(\"size\")[\"nb_sold\"].sum()\n",
    "nb_sold_by_size"
   ]
  },
  {
   "cell_type": "code",
   "execution_count": 13,
   "metadata": {},
   "outputs": [
    {
     "data": {
      "image/png": "[encoded data removed]",
      "text/plain": [
       "<Figure size 432x288 with 1 Axes>"
      ]
     },
     "metadata": {
      "needs_background": "light"
     },
     "output_type": "display_data"
    }
   ],
   "source": [
    "# Create a bar plot of the number of avocados sold by size\n",
    "nb_sold_by_size.plot(kind=\"bar\")\n",
    "plt.show()"
   ]
  },
  {
   "cell_type": "code",
   "execution_count": 14,
   "metadata": {},
   "outputs": [
    {
     "data": {
      "text/plain": [
       "<AxesSubplot:xlabel='date'>"
      ]
     },
     "execution_count": 14,
     "metadata": {},
     "output_type": "execute_result"
    },
    {
     "data": {
      "image/png": "[encoded data removed]",
      "text/plain": [
       "<Figure size 432x288 with 1 Axes>"
      ]
     },
     "metadata": {
      "needs_background": "light"
     },
     "output_type": "display_data"
    }
   ],
   "source": [
    "# Get the total number of avocados sold on each date\n",
    "nb_sold_by_date = avocados.groupby(\"date\")[\"nb_sold\"].sum()\n",
    "# Create a line plot of the number of avocados sold by date\n",
    "nb_sold_by_date.plot(kind=\"bar\")"
   ]
  },
  {
   "cell_type": "code",
   "execution_count": 15,
   "metadata": {},
   "outputs": [
    {
     "data": {
      "text/plain": [
       "<AxesSubplot:title={'center':'Number of avocados sold vs. average price'}, xlabel='nb_sold', ylabel='avg_price'>"
      ]
     },
     "execution_count": 15,
     "metadata": {},
     "output_type": "execute_result"
    },
    {
     "data": {
      "image/png": "[encoded data removed]",
      "text/plain": [
       "<Figure size 432x288 with 1 Axes>"
      ]
     },
     "metadata": {
      "needs_background": "light"
     },
     "output_type": "display_data"
    }
   ],
   "source": [
    "# Scatter plot of nb_sold vs avg_price with title\n",
    "avocados.plot(x='nb_sold', y='avg_price', kind=\"scatter\", title=\"Number of avocados sold vs. average price\")"
   ]
  },
  {
   "cell_type": "code",
   "execution_count": 16,
   "metadata": {},
   "outputs": [
    {
     "data": {
      "text/plain": [
       "<matplotlib.legend.Legend at 0x7f489176a6a0>"
      ]
     },
     "execution_count": 16,
     "metadata": {},
     "output_type": "execute_result"
    },
    {
     "data": {
      "image/png": "[encoded data removed]",
      "text/plain": [
       "<Figure size 432x288 with 1 Axes>"
      ]
     },
     "metadata": {
      "needs_background": "light"
     },
     "output_type": "display_data"
    }
   ],
   "source": [
    "# Histogram of conventional avg_price \n",
    "avocados[avocados[\"type\"] == \"conventional\"][\"avg_price\"].hist(alpha=0.5, bins=20)\n",
    "\n",
    "# Histogram of organic avg_price\n",
    "avocados[avocados[\"type\"] == \"organic\"][\"avg_price\"].hist(alpha=0.5, bins=20)\n",
    "\n",
    "# Add a legend\n",
    "plt.legend([\"conventional\", \"organic\"])"
   ]
  },
  {
   "cell_type": "markdown",
   "metadata": {},
   "source": [
    " - Oganic avocados are more expensive than conventional ones, but their price distributions have some overlap."
   ]
  },
  {
   "cell_type": "code",
   "execution_count": null,
   "metadata": {},
   "outputs": [],
   "source": []
  }
 ],
 "metadata": {
  "kernelspec": {
   "display_name": "Python 3",
   "language": "python",
   "name": "python3"
  },
  "language_info": {
   "codemirror_mode": {
    "name": "ipython",
    "version": 3
   },
   "file_extension": ".py",
   "mimetype": "text/x-python",
   "name": "python",
   "nbconvert_exporter": "python",
   "pygments_lexer": "ipython3",
   "version": "3.6.9"
  }
 },
 "nbformat": 4,
 "nbformat_minor": 4
}

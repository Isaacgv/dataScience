{
 "cells": [
  {
   "cell_type": "code",
   "execution_count": 77,
   "metadata": {},
   "outputs": [],
   "source": [
    "import pandas as pd\n",
    "import numpy as np\n",
    "import matplotlib.pyplot as plt"
   ]
  },
  {
   "cell_type": "code",
   "execution_count": 3,
   "metadata": {},
   "outputs": [],
   "source": [
    "nan=np.nan\n",
    "avocados_2016 = np.array([['2016-12-25', 1.0, 30287853.7, 9255125.2, 10282925.61, 541972.42,\n",
    "        10207830.47, 7709584.33, 2417144.92, 81101.22],\n",
    "       ['2016-12-18', 0.96, 29583882.61, 9394065.91, 10339168.2,\n",
    "        427872.42, 9422776.08, 6970320.34, 2358443.96, 94011.78],\n",
    "       ['2016-12-11', 0.98, 30093540.7, 9009996.11, nan, 403047.93,\n",
    "        10713276.64, 8149438.75, 2490495.07, 73342.82],\n",
    "       ['2016-12-04', 1.0, 31621221.9, 11043350.9, 9908982.97, 428009.84,\n",
    "        10240878.19, 7187022.58, 2988504.98, 65350.63],\n",
    "       ['2016-11-27', 1.21, 22923062.65, 7891487.94, 7337341.77, nan,\n",
    "        7349757.04, 5691266.56, 1609867.2, 48623.28],\n",
    "       ['2016-11-20', 1.27, 24989702.75, nan, 8033510.82, 407567.78,\n",
    "        8017463.63, 6207080.46, 1765673.77, 44709.4],\n",
    "       ['2016-11-13', 1.36, 24075126.49, 8235135.43, 7759608.21,\n",
    "        477520.95, 7602861.9, 5602593.66, 1957163.93, 43104.31],\n",
    "       ['2016-11-06', 1.44, 22534698.38, 7804252.91, nan, 505349.44,\n",
    "        7098159.72, 5245066.66, 1812174.32, 40918.74],\n",
    "       ['2016-10-30', 1.43, 21009730.21, 7100458.82, 6852046.35,\n",
    "        453145.26, 6604079.78, 4655045.62, 1882750.65, 66283.51],\n",
    "       ['2016-10-23', 1.34, 24753513.95, 7579629.06, 8104522.26,\n",
    "        452383.96, 8616978.67, 6508666.81, 2016513.03, 91798.83],\n",
    "       ['2016-10-16', 1.3, 27707046.82, 8810664.45, nan, 447291.48,\n",
    "        9594018.14, 6934368.93, 2575095.84, 84553.37],\n",
    "       ['2016-10-09', 1.27, 28857581.98, 9552502.48, 9579338.98,\n",
    "        490956.88, 9234783.64, 6849126.9, 2316377.99, 69278.75],\n",
    "       ['2016-10-02', 1.23, 29615008.49, 9534915.56, 9123897.74,\n",
    "        490123.01, 10466072.18, 7408765.9, 2981275.76, 76030.52],\n",
    "       ['2016-09-25', 1.22, 30305112.89, 10548061.13, 9255913.78,\n",
    "        492604.3, 10008533.68, 7440444.59, 2476400.79, 91688.3],\n",
    "       ['2016-09-18', 1.15, 31346091.46, 11337829.1, 9481313.14,\n",
    "        486187.39, 10040761.83, 7649502.34, 2311262.99, 79996.5],\n",
    "       ['2016-09-11', 1.08, 34126730.95, 12962762.94, nan, 512160.27,\n",
    "        10271369.65, 8199580.75, 2016484.84, 55304.06],\n",
    "       ['2016-09-04', 1.04, 37130688.91, 14643465.52, 11083513.46, nan,\n",
    "        10863029.04, 8555283.68, 2214419.29, 93326.07],\n",
    "       ['2016-08-28', 1.09, 33993931.31, 12561055.5, 10420973.0,\n",
    "        563738.54, 10448164.27, 8503870.88, 1785021.92, 159271.47],\n",
    "       ['2016-08-21', 1.1, 33592097.72, 12725249.3, 9906498.51,\n",
    "        609720.87, 10350629.04, 8749239.27, 1446381.11, 155008.66],\n",
    "       ['2016-08-14', 1.12, 34386177.3, 12352932.68, nan, 749247.02,\n",
    "        10404655.99, 8479506.83, 1813210.6, 111938.56],\n",
    "       ['2016-08-07', 1.15, 33819909.09, 12197105.36, 10731379.56,\n",
    "        754548.53, 10136875.64, 8386276.39, 1569550.49, 181048.76],\n",
    "       ['2016-07-31', 1.23, 31201590.22, 10168972.37, 10423957.83,\n",
    "        783937.09, 9824722.93, 8193011.02, 1431744.52, 199967.39],\n",
    "       ['2016-07-24', 1.2, 32339377.09, 10331314.28, 10795751.15,\n",
    "        947964.05, 10264347.61, 8315738.7, 1561208.69, 387400.22],\n",
    "       ['2016-07-17', 1.15, 32656123.63, 10320463.27, 10628872.6,\n",
    "        953631.47, 10753156.29, 8737861.29, 1624816.27, 390478.73],\n",
    "       ['2016-07-10', 1.1, 35567568.43, 11457080.38, 11677528.0,\n",
    "        1266433.97, 11166526.08, 8984513.63, 1727668.8, 454343.65],\n",
    "       ['2016-07-03', 1.06, 39993186.04, 12508937.27, 13315901.42,\n",
    "        1761343.08, 12407004.27, 9967538.34, 1887772.28, 551693.65],\n",
    "       ['2016-06-26', 1.04, 36617023.79, 12189035.17, 12029918.6,\n",
    "        1624942.43, 10773127.59, 8834969.52, 1609568.98, 328589.09],\n",
    "       ['2016-06-19', 1.02, 38489936.14, 13488851.61, 12842698.33,\n",
    "        1642735.63, 10515650.57, 8223280.88, 1975350.75, 317018.94],\n",
    "       ['2016-06-12', 1.04, 35580820.0, 12291686.69, 11533969.83,\n",
    "        1607344.08, 10147819.4, 8039865.67, 1796513.74, 311439.99],\n",
    "       ['2016-06-05', 0.97, 40231259.65, 13808859.16, 13396651.73,\n",
    "        1770948.09, 11254800.67, 8492744.45, 2441022.99, 321033.23],\n",
    "       ['2016-05-29', 0.94, 40019075.24, 13682611.21, 13829591.06, nan,\n",
    "        10923377.04, 8085657.41, 2657598.78, 180120.85],\n",
    "       ['2016-05-22', 0.93, 36958035.51, 11711999.81, 12981224.42,\n",
    "        1640829.4, 10623981.88, 7835766.14, 2563223.75, 224991.99],\n",
    "       ['2016-05-15', 0.89, 39914996.74, 12447598.49, 14437190.03, nan,\n",
    "        11276355.61, 7987028.55, 3143280.05, 146047.01],\n",
    "       ['2016-05-08', 0.82, 46324529.7, 14223304.98, 17896391.6,\n",
    "        1993645.36, 12211187.76, 8747756.84, 3342780.83, 120650.09],\n",
    "       ['2016-05-01', 0.84, 42867608.54, 13748944.38, 15899858.37,\n",
    "        1414364.49, 11804441.3, 8376124.32, 3365582.11, 62734.87],\n",
    "       ['2016-04-24', 0.87, 39607695.3, 12913697.19, 14382184.8,\n",
    "        1599863.98, 10711949.33, 7835835.83, 2801102.86, 75010.64],\n",
    "       ['2016-04-17', 0.9, 37467885.19, nan, 12896366.58, 1896149.5,\n",
    "        10720881.55, 8128710.21, 2467001.94, 125169.4],\n",
    "       ['2016-04-10', 0.9, 36584029.39, 12879820.47, nan, 1666275.13,\n",
    "        10499801.43, 7808770.98, 2613293.43, 77737.02],\n",
    "       ['2016-04-03', 0.94, 33668450.55, 11320969.79, 11512621.85,\n",
    "        1731910.48, 9102948.43, 6830380.18, 2213379.44, 59188.81],\n",
    "       ['2016-03-27', 0.94, 35930195.92, 11249198.4, 12745266.73,\n",
    "        1880231.38, 10055499.41, 7745105.36, 2228007.91, 82386.14],\n",
    "       ['2016-03-20', 0.93, 36335483.78, nan, 13727453.57, 1773088.87,\n",
    "        9700550.36, 7248857.68, 2374053.89, 77638.79],\n",
    "       ['2016-03-13', 0.93, 36374516.14, 11661687.44, 13104887.66,\n",
    "        1800065.57, 9807875.47, 7231162.6, 2521123.87, 55589.0],\n",
    "       ['2016-03-06', 0.95, 35064506.04, 11824154.63, 12196587.24,\n",
    "        1686475.33, 9357288.84, 7502570.03, 1747903.69, 106815.12],\n",
    "       ['2016-02-28', 0.91, 36801817.68, 11907394.72, 13210854.56,\n",
    "        1560167.75, 10123400.65, 7251666.99, 2802238.74, 69494.92],\n",
    "       ['2016-02-21', 0.94, 32804733.22, nan, 12003751.56, 1375260.47,\n",
    "        9409896.06, 7213492.61, 2150749.43, 45654.02],\n",
    "       ['2016-02-14', 0.88, 36476441.86, 11913078.3, 13187973.29,\n",
    "        1811090.71, 9564299.56, 7102422.27, 2387455.67, 74421.62],\n",
    "       ['2016-02-07', 0.76, 52288697.89, 16573573.78, 20470572.61,\n",
    "        2546439.11, 12698112.39, 9083373.04, 3373077.87, 241661.48],\n",
    "       ['2016-01-31', 0.93, 34721249.92, 11098088.49, 13278053.61,\n",
    "        1643703.17, 8701404.65, 6684515.27, 1823889.58, 192999.8],\n",
    "       ['2016-01-24', 0.95, 32787079.21, 7020459.0, 14054367.5,\n",
    "        1440380.36, 10271872.35, 7438489.6, 2668368.01, 165014.74],\n",
    "       ['2016-01-17', 0.94, 34426341.87, 10036597.84, 13832256.04,\n",
    "        1419405.62, 9138082.37, 6846324.06, 2228420.91, 63337.4],\n",
    "       ['2016-01-10', 0.93, 35264336.01, nan, 13226088.66, 1282612.91,\n",
    "        9314347.55, 6735384.32, 2528089.14, 50874.09],\n",
    "       ['2016-01-03', 0.86, 38142088.04, nan, 16054083.86, 1560068.62,\n",
    "        8911429.39, 6464895.83, 2287449.76, 159083.8]], dtype=object)"
   ]
  },
  {
   "cell_type": "code",
   "execution_count": 50,
   "metadata": {},
   "outputs": [],
   "source": [
    "columns = ['date',\n",
    " 'avg_price',\n",
    " 'total_sold',\n",
    " 'small_sold',\n",
    " 'large_sold',\n",
    " 'xl_sold',\n",
    " 'total_bags_sold',\n",
    " 'small_bags_sold',\n",
    " 'large_bags_sold',\n",
    " 'xl_bags_sold']\n",
    "\n",
    "avocados_2016=pd.DataFrame(avocados_2016, columns=columns)"
   ]
  },
  {
   "cell_type": "markdown",
   "metadata": {},
   "source": [
    "# Finding missing values"
   ]
  },
  {
   "cell_type": "code",
   "execution_count": 51,
   "metadata": {},
   "outputs": [
    {
     "data": {
      "text/html": [
       "<div>\n",
       "<style scoped>\n",
       "    .dataframe tbody tr th:only-of-type {\n",
       "        vertical-align: middle;\n",
       "    }\n",
       "\n",
       "    .dataframe tbody tr th {\n",
       "        vertical-align: top;\n",
       "    }\n",
       "\n",
       "    .dataframe thead th {\n",
       "        text-align: right;\n",
       "    }\n",
       "</style>\n",
       "<table border=\"1\" class=\"dataframe\">\n",
       "  <thead>\n",
       "    <tr style=\"text-align: right;\">\n",
       "      <th></th>\n",
       "      <th>date</th>\n",
       "      <th>avg_price</th>\n",
       "      <th>total_sold</th>\n",
       "      <th>small_sold</th>\n",
       "      <th>large_sold</th>\n",
       "      <th>xl_sold</th>\n",
       "      <th>total_bags_sold</th>\n",
       "      <th>small_bags_sold</th>\n",
       "      <th>large_bags_sold</th>\n",
       "      <th>xl_bags_sold</th>\n",
       "    </tr>\n",
       "  </thead>\n",
       "  <tbody>\n",
       "    <tr>\n",
       "      <th>0</th>\n",
       "      <td>False</td>\n",
       "      <td>False</td>\n",
       "      <td>False</td>\n",
       "      <td>False</td>\n",
       "      <td>False</td>\n",
       "      <td>False</td>\n",
       "      <td>False</td>\n",
       "      <td>False</td>\n",
       "      <td>False</td>\n",
       "      <td>False</td>\n",
       "    </tr>\n",
       "    <tr>\n",
       "      <th>1</th>\n",
       "      <td>False</td>\n",
       "      <td>False</td>\n",
       "      <td>False</td>\n",
       "      <td>False</td>\n",
       "      <td>False</td>\n",
       "      <td>False</td>\n",
       "      <td>False</td>\n",
       "      <td>False</td>\n",
       "      <td>False</td>\n",
       "      <td>False</td>\n",
       "    </tr>\n",
       "    <tr>\n",
       "      <th>2</th>\n",
       "      <td>False</td>\n",
       "      <td>False</td>\n",
       "      <td>False</td>\n",
       "      <td>False</td>\n",
       "      <td>True</td>\n",
       "      <td>False</td>\n",
       "      <td>False</td>\n",
       "      <td>False</td>\n",
       "      <td>False</td>\n",
       "      <td>False</td>\n",
       "    </tr>\n",
       "    <tr>\n",
       "      <th>3</th>\n",
       "      <td>False</td>\n",
       "      <td>False</td>\n",
       "      <td>False</td>\n",
       "      <td>False</td>\n",
       "      <td>False</td>\n",
       "      <td>False</td>\n",
       "      <td>False</td>\n",
       "      <td>False</td>\n",
       "      <td>False</td>\n",
       "      <td>False</td>\n",
       "    </tr>\n",
       "    <tr>\n",
       "      <th>4</th>\n",
       "      <td>False</td>\n",
       "      <td>False</td>\n",
       "      <td>False</td>\n",
       "      <td>False</td>\n",
       "      <td>False</td>\n",
       "      <td>True</td>\n",
       "      <td>False</td>\n",
       "      <td>False</td>\n",
       "      <td>False</td>\n",
       "      <td>False</td>\n",
       "    </tr>\n",
       "  </tbody>\n",
       "</table>\n",
       "</div>"
      ],
      "text/plain": [
       "    date  avg_price  total_sold  small_sold  large_sold  xl_sold  \\\n",
       "0  False      False       False       False       False    False   \n",
       "1  False      False       False       False       False    False   \n",
       "2  False      False       False       False        True    False   \n",
       "3  False      False       False       False       False    False   \n",
       "4  False      False       False       False       False     True   \n",
       "\n",
       "   total_bags_sold  small_bags_sold  large_bags_sold  xl_bags_sold  \n",
       "0            False            False            False         False  \n",
       "1            False            False            False         False  \n",
       "2            False            False            False         False  \n",
       "3            False            False            False         False  \n",
       "4            False            False            False         False  "
      ]
     },
     "execution_count": 51,
     "metadata": {},
     "output_type": "execute_result"
    }
   ],
   "source": [
    "# Check individual values for missing values\n",
    "avocados_2016.isna().head()"
   ]
  },
  {
   "cell_type": "code",
   "execution_count": 52,
   "metadata": {},
   "outputs": [
    {
     "data": {
      "text/plain": [
       "date               False\n",
       "avg_price          False\n",
       "total_sold         False\n",
       "small_sold          True\n",
       "large_sold          True\n",
       "xl_sold             True\n",
       "total_bags_sold    False\n",
       "small_bags_sold    False\n",
       "large_bags_sold    False\n",
       "xl_bags_sold       False\n",
       "dtype: bool"
      ]
     },
     "execution_count": 52,
     "metadata": {},
     "output_type": "execute_result"
    }
   ],
   "source": [
    "# Check each column for missing values\n",
    "avocados_2016.isna().any()"
   ]
  },
  {
   "cell_type": "code",
   "execution_count": 53,
   "metadata": {},
   "outputs": [
    {
     "data": {
      "text/plain": [
       "<AxesSubplot:>"
      ]
     },
     "execution_count": 53,
     "metadata": {},
     "output_type": "execute_result"
    },
    {
     "data": {
      "image/png": "[encoded data removed]",
      "text/plain": [
       "<Figure size 432x288 with 1 Axes>"
      ]
     },
     "metadata": {
      "needs_background": "light"
     },
     "output_type": "display_data"
    }
   ],
   "source": [
    "#Bar plot of missing values by variable\n",
    "avocados_2016.isna().sum().plot(kind=\"bar\")"
   ]
  },
  {
   "cell_type": "markdown",
   "metadata": {},
   "source": [
    "# Removing missing values"
   ]
  },
  {
   "cell_type": "code",
   "execution_count": 54,
   "metadata": {},
   "outputs": [],
   "source": [
    "# Remove rows with missing values\n",
    "avocados_complete = avocados_2016.dropna()"
   ]
  },
  {
   "cell_type": "code",
   "execution_count": 55,
   "metadata": {},
   "outputs": [
    {
     "data": {
      "text/plain": [
       "date               False\n",
       "avg_price          False\n",
       "total_sold         False\n",
       "small_sold         False\n",
       "large_sold         False\n",
       "xl_sold            False\n",
       "total_bags_sold    False\n",
       "small_bags_sold    False\n",
       "large_bags_sold    False\n",
       "xl_bags_sold       False\n",
       "dtype: bool"
      ]
     },
     "execution_count": 55,
     "metadata": {},
     "output_type": "execute_result"
    }
   ],
   "source": [
    "avocados_complete.isna().any()"
   ]
  },
  {
   "cell_type": "markdown",
   "metadata": {},
   "source": [
    "# Replacing missing values"
   ]
  },
  {
   "cell_type": "code",
   "execution_count": 66,
   "metadata": {},
   "outputs": [],
   "source": [
    "# List the columns with missing values\n",
    "cols_with_missing = [\"small_sold\", \"large_sold\", \"xl_sold\"]"
   ]
  },
  {
   "cell_type": "code",
   "execution_count": 83,
   "metadata": {},
   "outputs": [
    {
     "data": {
      "image/png": "[encoded data removed]",
      "text/plain": [
       "<Figure size 432x288 with 1 Axes>"
      ]
     },
     "metadata": {
      "needs_background": "light"
     },
     "output_type": "display_data"
    },
    {
     "data": {
      "image/png": "[encoded data removed]",
      "text/plain": [
       "<Figure size 432x288 with 1 Axes>"
      ]
     },
     "metadata": {
      "needs_background": "light"
     },
     "output_type": "display_data"
    },
    {
     "data": {
      "image/png": "[encoded data removed]",
      "text/plain": [
       "<Figure size 432x288 with 1 Axes>"
      ]
     },
     "metadata": {
      "needs_background": "light"
     },
     "output_type": "display_data"
    }
   ],
   "source": [
    "avocados_2016[\"small_sold\"].hist()\n",
    "plt.show()\n",
    "avocados_2016[\"large_sold\"].hist()\n",
    "plt.show()\n",
    "avocados_2016[\"xl_sold\"].hist()\n",
    "plt.show()"
   ]
  },
  {
   "cell_type": "code",
   "execution_count": 80,
   "metadata": {},
   "outputs": [],
   "source": [
    "# Fill in missing values with 0\n",
    "avocados_filled = avocados_2016.fillna(0)"
   ]
  },
  {
   "cell_type": "code",
   "execution_count": 81,
   "metadata": {},
   "outputs": [
    {
     "data": {
      "text/plain": [
       "array([[<AxesSubplot:title={'center':'large_sold'}>,\n",
       "        <AxesSubplot:title={'center':'small_sold'}>],\n",
       "       [<AxesSubplot:title={'center':'xl_sold'}>, <AxesSubplot:>]],\n",
       "      dtype=object)"
      ]
     },
     "execution_count": 81,
     "metadata": {},
     "output_type": "execute_result"
    },
    {
     "data": {
      "image/png": "[encoded data removed]",
      "text/plain": [
       "<Figure size 432x288 with 4 Axes>"
      ]
     },
     "metadata": {
      "needs_background": "light"
     },
     "output_type": "display_data"
    }
   ],
   "source": [
    "# Create histograms of the filled columns\n",
    "avocados_filled[cols_with_missing].hist()"
   ]
  },
  {
   "cell_type": "markdown",
   "metadata": {},
   "source": [
    " - distribution has changed shape after replacing missing values with zeros."
   ]
  },
  {
   "cell_type": "code",
   "execution_count": null,
   "metadata": {},
   "outputs": [],
   "source": []
  }
 ],
 "metadata": {
  "kernelspec": {
   "display_name": "Python 3",
   "language": "python",
   "name": "python3"
  },
  "language_info": {
   "codemirror_mode": {
    "name": "ipython",
    "version": 3
   },
   "file_extension": ".py",
   "mimetype": "text/x-python",
   "name": "python",
   "nbconvert_exporter": "python",
   "pygments_lexer": "ipython3",
   "version": "3.6.9"
  }
 },
 "nbformat": 4,
 "nbformat_minor": 4
}

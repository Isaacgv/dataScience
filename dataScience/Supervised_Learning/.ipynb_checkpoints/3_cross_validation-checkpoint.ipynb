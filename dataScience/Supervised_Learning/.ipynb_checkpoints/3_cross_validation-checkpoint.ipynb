{
 "cells": [
  {
   "cell_type": "code",
   "execution_count": 26,
   "metadata": {},
   "outputs": [],
   "source": [
    "import numpy as np\n",
    "\n",
    "import matplotlib.pyplot as plt"
   ]
  },
  {
   "cell_type": "code",
   "execution_count": 38,
   "metadata": {},
   "outputs": [],
   "source": [
    "X = np.array([[3.48110590e+07, 2.73000000e+00, 1.00000000e-01, 3.32894466e+00,\n",
    "        2.45962000e+01, 1.23140000e+04, 1.29904900e+02, 2.95000000e+01],\n",
    "       [1.98422510e+07, 6.43000000e+00, 2.00000000e+00, 1.47435339e+00,\n",
    "        2.22508300e+01, 7.10300000e+03, 1.30124700e+02, 1.92000000e+02],\n",
    "       [4.03818600e+07, 2.24000000e+00, 5.00000000e-01, 4.78516998e+00,\n",
    "        2.75017000e+01, 1.46460000e+04, 1.18891500e+02, 1.54000000e+01],\n",
    "       [2.97502900e+06, 1.40000000e+00, 1.00000000e-01, 1.80410622e+00,\n",
    "        2.53554200e+01, 7.38300000e+03, 1.32810800e+02, 2.00000000e+01],\n",
    "       [2.13703480e+07, 1.96000000e+00, 1.00000000e-01, 1.80163133e+01,\n",
    "        2.75637300e+01, 4.13120000e+04, 1.17375500e+02, 5.20000000e+00],\n",
    "       [8.33146500e+06, 1.41000000e+00, 3.00000000e-01, 8.18316002e+00,\n",
    "        2.64674100e+01, 4.39520000e+04, 1.24139400e+02, 4.60000000e+00],\n",
    "       [8.86871300e+06, 1.99000000e+00, 1.00000000e-01, 5.10953829e+00,\n",
    "        2.56511700e+01, 1.43650000e+04, 1.28602400e+02, 4.33000000e+01],\n",
    "       [3.48587000e+05, 1.89000000e+00, 3.10000000e+00, 3.13192132e+00,\n",
    "        2.72459400e+01, 2.43730000e+04, 1.24386200e+02, 1.45000000e+01],\n",
    "       [1.48252473e+08, 2.38000000e+00, 6.00000000e-02, 3.19161002e-01,\n",
    "        2.03974200e+01, 2.26500000e+03, 1.25030700e+02, 5.59000000e+01],\n",
    "       [2.77315000e+05, 1.83000000e+00, 1.30000000e+00, 6.00827884e+00,\n",
    "        2.63843900e+01, 1.60750000e+04, 1.26394000e+02, 1.54000000e+01],\n",
    "       [9.52645300e+06, 1.42000000e+00, 2.00000000e-01, 6.48817388e+00,\n",
    "        2.61644300e+01, 1.44880000e+04, 1.29796800e+02, 7.20000000e+00],\n",
    "       [1.07791550e+07, 1.82000000e+00, 2.00000000e-01, 9.79733671e+00,\n",
    "        2.67591500e+01, 4.16410000e+04, 1.21822700e+02, 4.70000000e+00],\n",
    "       [3.06165000e+05, 2.91000000e+00, 2.40000000e+00, 1.36012592e+00,\n",
    "        2.70225500e+01, 8.29300000e+03, 1.20922400e+02, 2.01000000e+01],\n",
    "       [8.97352500e+06, 5.27000000e+00, 1.20000000e+00, 5.37539184e-01,\n",
    "        2.24183500e+01, 1.64600000e+03, 1.30272300e+02, 1.16300000e+02],\n",
    "       [6.94990000e+05, 2.51000000e+00, 2.00000000e-01, 6.01210310e-01,\n",
    "        2.28218000e+01, 5.66300000e+03, 1.25125800e+02, 4.81000000e+01],\n",
    "       [9.59991600e+06, 3.48000000e+00, 2.00000000e-01, 1.43182915e+00,\n",
    "        2.44333500e+01, 5.06600000e+03, 1.22415500e+02, 5.20000000e+01],\n",
    "       [1.96786600e+06, 2.86000000e+00, 2.49000000e+01, 2.54720549e+00,\n",
    "        2.21298400e+01, 1.38580000e+04, 1.33130700e+02, 6.38000000e+01],\n",
    "       [1.94769696e+08, 1.90000000e+00, 4.50000000e-01, 2.02377284e+00,\n",
    "        2.57862300e+01, 1.39060000e+04, 1.24874500e+02, 1.86000000e+01],\n",
    "       [7.51364600e+06, 1.43000000e+00, 1.00000000e-01, 6.69013908e+00,\n",
    "        2.65428600e+01, 1.53680000e+04, 1.28472100e+02, 1.37000000e+01],\n",
    "       [1.47090110e+07, 6.04000000e+00, 1.20000000e+00, 1.09419171e-01,\n",
    "        2.12715700e+01, 1.35800000e+03, 1.30665100e+02, 1.30400000e+02],\n",
    "       [8.82179500e+06, 6.48000000e+00, 3.50000000e+00, 3.13888013e-02,\n",
    "        2.15029100e+01, 7.23000000e+02, 1.34195500e+02, 1.08600000e+02],\n",
    "       [1.39336600e+07, 3.05000000e+00, 6.00000000e-01, 2.87547496e-01,\n",
    "        2.08049600e+01, 2.44200000e+03, 1.17552800e+02, 5.15000000e+01],\n",
    "       [1.95704180e+07, 5.17000000e+00, 5.30000000e+00, 2.95541639e-01,\n",
    "        2.36817300e+01, 2.57100000e+03, 1.27282300e+02, 1.13800000e+02],\n",
    "       [3.33632560e+07, 1.68000000e+00, 2.00000000e-01, 1.63503986e+01,\n",
    "        2.74521000e+01, 4.14680000e+04, 1.18057100e+02, 5.80000000e+00],\n",
    "       [1.11397400e+07, 6.81000000e+00, 3.40000000e+00, 4.78391264e-02,\n",
    "        2.14856900e+01, 1.75300000e+03, 1.27864000e+02, 1.68000000e+02],\n",
    "       [1.66459400e+07, 1.89000000e+00, 4.00000000e-01, 4.24025914e+00,\n",
    "        2.70154200e+01, 1.86980000e+04, 1.25541700e+02, 8.90000000e+00],\n",
    "       [4.49016600e+07, 2.43000000e+00, 5.00000000e-01, 1.47609182e+00,\n",
    "        2.49404100e+01, 1.04890000e+04, 1.24023500e+02, 1.97000000e+01],\n",
    "       [6.65414000e+05, 5.05000000e+00, 6.00000000e-02, 1.78853064e-01,\n",
    "        2.20613100e+01, 1.44000000e+03, 1.32135400e+02, 9.12000000e+01],\n",
    "       [3.83277100e+06, 5.10000000e+00, 3.50000000e+00, 3.84220477e-01,\n",
    "        2.18713400e+01, 5.02200000e+03, 1.31693500e+02, 7.26000000e+01],\n",
    "       [4.42950600e+06, 1.91000000e+00, 3.00000000e-01, 1.91193342e+00,\n",
    "        2.64789700e+01, 1.22190000e+04, 1.21350000e+02, 1.03000000e+01],\n",
    "       [1.92616470e+07, 4.91000000e+00, 3.70000000e+00, 3.61896603e-01,\n",
    "        2.25646900e+01, 2.85400000e+03, 1.31523700e+02, 1.16900000e+02],\n",
    "       [4.34415100e+06, 1.43000000e+00, 6.00000000e-02, 5.28790258e+00,\n",
    "        2.65962900e+01, 2.18730000e+04, 1.30392100e+02, 5.90000000e+00],\n",
    "       [1.12902390e+07, 1.50000000e+00, 1.00000000e-01, 2.70177717e+00,\n",
    "        2.50686700e+01, 1.77650000e+04, 1.26059400e+02, 6.30000000e+00],\n",
    "       [5.49530200e+06, 1.89000000e+00, 2.00000000e-01, 8.54150780e+00,\n",
    "        2.61328700e+01, 4.50170000e+04, 1.19581500e+02, 4.30000000e+00],\n",
    "       [8.09639000e+05, 3.76000000e+00, 2.60000000e+00, 6.12799524e-01,\n",
    "        2.33840300e+01, 2.50200000e+03, 1.29337600e+02, 8.10000000e+01],\n",
    "       [1.44476000e+07, 2.73000000e+00, 4.00000000e-01, 2.11051780e+00,\n",
    "        2.55884100e+01, 9.24400000e+03, 1.22986400e+02, 2.68000000e+01],\n",
    "       [7.89761220e+07, 2.95000000e+00, 6.00000000e-02, 2.51239420e+00,\n",
    "        2.67324300e+01, 9.97400000e+03, 1.25093100e+02, 3.14000000e+01],\n",
    "       [6.00419900e+06, 2.32000000e+00, 8.00000000e-01, 1.06776463e+00,\n",
    "        2.63675100e+01, 7.45000000e+03, 1.19932100e+02, 2.16000000e+01],\n",
    "       [6.86223000e+05, 5.31000000e+00, 4.70000000e+00, 6.79825323e+00,\n",
    "        2.37664000e+01, 4.01430000e+04, 1.32039200e+02, 1.18400000e+02],\n",
    "       [4.50063800e+06, 5.16000000e+00, 8.00000000e-01, 8.37456442e-02,\n",
    "        2.08850900e+01, 1.08800000e+03, 1.25794800e+02, 6.04000000e+01],\n",
    "       [1.33994100e+06, 1.62000000e+00, 1.20000000e+00, 1.30313789e+01,\n",
    "        2.62644600e+01, 2.47430000e+04, 1.29516100e+02, 5.50000000e+00],\n",
    "       [8.43206000e+05, 2.74000000e+00, 1.00000000e-01, 1.27777956e+00,\n",
    "        2.65307800e+01, 7.12900000e+03, 1.27476800e+02, 2.40000000e+01],\n",
    "       [5.31417000e+06, 1.85000000e+00, 1.00000000e-01, 1.06441143e+01,\n",
    "        2.67333900e+01, 4.21220000e+04, 1.26564500e+02, 3.30000000e+00],\n",
    "       [6.23095290e+07, 1.97000000e+00, 4.00000000e-01, 5.99902073e+00,\n",
    "        2.58532900e+01, 3.75050000e+04, 1.20014600e+02, 4.30000000e+00],\n",
    "       [1.47374100e+06, 4.28000000e+00, 5.30000000e+00, 1.07953932e+00,\n",
    "        2.40762000e+01, 1.58000000e+04, 1.30362500e+02, 6.80000000e+01],\n",
    "       [1.58674900e+06, 5.80000000e+00, 1.70000000e+00, 2.51002328e-01,\n",
    "        2.16502900e+01, 1.56600000e+03, 1.30208000e+02, 8.74000000e+01],\n",
    "       [4.34329000e+06, 1.79000000e+00, 1.00000000e-01, 1.41942978e+00,\n",
    "        2.55494200e+01, 5.90000000e+03, 1.30578900e+02, 1.93000000e+01],\n",
    "       [8.06659060e+07, 1.37000000e+00, 1.00000000e-01, 9.49724676e+00,\n",
    "        2.71650900e+01, 4.11990000e+04, 1.24904400e+02, 4.40000000e+00],\n",
    "       [2.31159190e+07, 4.19000000e+00, 1.80000000e+00, 3.66600849e-01,\n",
    "        2.28424700e+01, 2.90700000e+03, 1.28295300e+02, 7.99000000e+01],\n",
    "       [1.11617550e+07, 1.46000000e+00, 1.00000000e-01, 8.66123553e+00,\n",
    "        2.63378600e+01, 3.21970000e+04, 1.22934200e+02, 4.90000000e+00]])\n",
    "\n",
    "y = np.array([75.3, 58.3, 75.5, 72.5, 81.5, 80.4, 70.6, 72.2, 68.4, 75.3, 70.1,\n",
    "       79.4, 70.7, 63.2, 67.6, 70.9, 61.2, 73.9, 73.2, 59.4, 57.4, 66.2,\n",
    "       56.6, 80.7, 54.8, 78.9, 75.1, 62.6, 58.6, 79.7, 55.9, 76.5, 77.8,\n",
    "       78.7, 61. , 74. , 70.1, 74.1, 56.7, 60.4, 74. , 65.7, 79.4, 81. ,\n",
    "       57.5, 62.2, 72.1, 80. , 62.7, 79.5])"
   ]
  },
  {
   "cell_type": "markdown",
   "metadata": {},
   "source": [
    "# Cross Validation\n",
    "\n",
    "- If model performance is dependent on way the data is split\n",
    "- If not representative of the model’s ability to generalize"
   ]
  },
  {
   "cell_type": "code",
   "execution_count": 39,
   "metadata": {},
   "outputs": [],
   "source": [
    "# Import the necessary modules\n",
    "from sklearn.linear_model import LinearRegression\n",
    "from sklearn.model_selection import cross_val_score"
   ]
  },
  {
   "cell_type": "code",
   "execution_count": 40,
   "metadata": {},
   "outputs": [
    {
     "name": "stdout",
     "output_type": "stream",
     "text": [
      "[ 0.80226391 -3.04391913  0.88686109  0.82679662  0.84390646]\n"
     ]
    }
   ],
   "source": [
    "# Create a linear regression object: reg\n",
    "reg = LinearRegression()\n",
    "\n",
    "# Compute 5-fold cross-validation scores: cv_scores\n",
    "cv_scores = cross_val_score(reg, X,y, cv=5)\n",
    "\n",
    "# Print the 5-fold cross-validation scores\n",
    "print(cv_scores)"
   ]
  },
  {
   "cell_type": "code",
   "execution_count": 41,
   "metadata": {},
   "outputs": [
    {
     "name": "stdout",
     "output_type": "stream",
     "text": [
      "Average 5-Fold CV Score: 0.06318178824375256\n"
     ]
    }
   ],
   "source": [
    "print(\"Average 5-Fold CV Score: {}\".format(np.mean(cv_scores)))"
   ]
  },
  {
   "cell_type": "code",
   "execution_count": 42,
   "metadata": {},
   "outputs": [
    {
     "name": "stdout",
     "output_type": "stream",
     "text": [
      "3.28 ms ± 88.8 µs per loop (mean ± std. dev. of 7 runs, 100 loops each)\n",
      "10.4 ms ± 429 µs per loop (mean ± std. dev. of 7 runs, 100 loops each)\n",
      "0.02776654949804471\n"
     ]
    }
   ],
   "source": [
    "# Perform 3-fold CV\n",
    "%timeit cvscores_3 = cross_val_score(reg, X,y, cv=3)\n",
    "#print(np.mean(cvscores_3))\n",
    "\n",
    "# Perform 10-fold CV\n",
    "%timeit cvscores_10 = cross_val_score(reg, X,y, cv=10)\n",
    "print(np.mean(cvscores_10))\n"
   ]
  },
  {
   "cell_type": "markdown",
   "metadata": {},
   "source": [
    "# Regularization Regression\n",
    "\n",
    "   - Penalize large coefficients, because large coefficients can lead overfitting\n",
    "   \n",
    "## Ridge regression\n",
    "\n",
    "L2 norm -> took the sum of the squared values of the coefficients multiplied by some alpha\n",
    "\n",
    "    \n",
    "    \n",
    "   $Loss = OLS  Loss + \\alpha*\\sum \\limits _{i=1} ^{n} a_{i}^2\\ $\n",
    "   \n",
    "$\\alpha$ Controls model complexity:\n",
    " - $\\alpha$ = 0 -> Get back OLS (Can lead overfitting)\n",
    " - very high $\\alpha$ -> can lead underfitting\n",
    " "
   ]
  },
  {
   "cell_type": "code",
   "execution_count": 46,
   "metadata": {},
   "outputs": [],
   "source": [
    "def display_plot(cv_scores, cv_scores_std):\n",
    "    fig = plt.figure()\n",
    "    ax = fig.add_subplot(1,1,1)\n",
    "    ax.plot(alpha_space, cv_scores)\n",
    "\n",
    "    std_error = cv_scores_std / np.sqrt(10)\n",
    "\n",
    "    ax.fill_between(alpha_space, cv_scores + std_error, cv_scores - std_error, alpha=0.2)\n",
    "    ax.set_ylabel('CV Score +/- Std Error')\n",
    "    ax.set_xlabel('Alpha')\n",
    "    ax.axhline(np.max(cv_scores), linestyle='--', color='.5')\n",
    "    ax.set_xlim([alpha_space[0], alpha_space[-1]])\n",
    "    ax.set_xscale('log')\n",
    "    plt.show()"
   ]
  },
  {
   "cell_type": "code",
   "execution_count": 52,
   "metadata": {},
   "outputs": [
    {
     "data": {
      "image/png": "[encoded data removed]",
      "text/plain": [
       "<Figure size 432x288 with 1 Axes>"
      ]
     },
     "metadata": {
      "needs_background": "light"
     },
     "output_type": "display_data"
    }
   ],
   "source": [
    "# Import necessary modules\n",
    "from sklearn.linear_model import Ridge\n",
    "from sklearn.model_selection import cross_val_score\n",
    "\n",
    "# Setup the array of alphas and lists to store scores\n",
    "alpha_space = np.logspace(-4, 2, 50)\n",
    "ridge_scores = []\n",
    "ridge_scores_std = []\n",
    "\n",
    "# Create a ridge regressor: ridge\n",
    "ridge = Ridge(normalize=True)\n",
    "\n",
    "# Compute scores over range of alphas\n",
    "for alpha in alpha_space:\n",
    "\n",
    "    # Specify the alpha value to use: ridge.alpha\n",
    "    ridge.alpha = alpha\n",
    "    \n",
    "    # Perform 10-fold CV: ridge_cv_scores\n",
    "    ridge_cv_scores = cross_val_score(ridge, X, y, cv=10)\n",
    "    \n",
    "    # Append the mean of ridge_cv_scores to ridge_scores\n",
    "    ridge_scores.append(np.mean(ridge_cv_scores))\n",
    "    \n",
    "    # Append the std of ridge_cv_scores to ridge_scores_std\n",
    "    ridge_scores_std.append(np.std(ridge_cv_scores))\n",
    "\n",
    "# Display the plot\n",
    "display_plot(ridge_scores, ridge_scores_std)\n"
   ]
  },
  {
   "cell_type": "markdown",
   "metadata": {},
   "source": [
    "## Lasso regression\n",
    "Lasso performs regularization by adding to the loss function a penalty term of the absolute value of each coefficient multiplied by some alpha.\n",
    "\n",
    "L1 -> the regularization term is the L1 norm of the coefficients.\n",
    "\n",
    "\n",
    " $Loss = OLS  Loss + \\alpha*\\sum \\limits _{i=1} ^{n} |a_{i}|\\ $\n",
    " \n",
    " - Can be used to select important features of dataset\n",
    " - Shrinks the coeficients of less importans features to exactly 0"
   ]
  },
  {
   "cell_type": "code",
   "execution_count": 43,
   "metadata": {},
   "outputs": [
    {
     "data": {
      "text/plain": [
       "Lasso(alpha=0.4, copy_X=True, fit_intercept=True, max_iter=1000, normalize=True,\n",
       "      positive=False, precompute=False, random_state=None, selection='cyclic',\n",
       "      tol=0.0001, warm_start=False)"
      ]
     },
     "execution_count": 43,
     "metadata": {},
     "output_type": "execute_result"
    }
   ],
   "source": [
    "# Import Lasso\n",
    "from sklearn.linear_model import Lasso\n",
    "\n",
    "# Instantiate a lasso regressor: lasso\n",
    "lasso = Lasso(alpha=0.4, normalize=True)\n",
    "\n",
    "# Fit the regressor to the data\n",
    "lasso.fit(X, y)"
   ]
  },
  {
   "cell_type": "code",
   "execution_count": 44,
   "metadata": {},
   "outputs": [
    {
     "name": "stdout",
     "output_type": "stream",
     "text": [
      "[ 0.         -1.10383444 -0.          0.          0.23396131  0.\n",
      " -0.01293901 -0.05006436]\n"
     ]
    }
   ],
   "source": [
    "# Compute and print the coefficients\n",
    "lasso_coef = lasso.coef_\n",
    "print(lasso_coef)"
   ]
  },
  {
   "cell_type": "code",
   "execution_count": 45,
   "metadata": {},
   "outputs": [
    {
     "data": {
      "image/png": "[encoded data removed]",
      "text/plain": [
       "<Figure size 432x288 with 1 Axes>"
      ]
     },
     "metadata": {
      "needs_background": "light"
     },
     "output_type": "display_data"
    }
   ],
   "source": [
    "# Plot the coefficients\n",
    "df_columns = ['population', 'fertility', 'HIV', 'CO2', 'BMI_male', 'GDP',\n",
    "       'BMI_female', 'child_mortality']\n",
    "plt.plot(range(len(df_columns)), lasso_coef)\n",
    "plt.xticks(range(len(df_columns)), df_columns, rotation=60)\n",
    "plt.margins(0.02)\n",
    "plt.show()"
   ]
  },
  {
   "cell_type": "code",
   "execution_count": null,
   "metadata": {},
   "outputs": [],
   "source": []
  }
 ],
 "metadata": {
  "kernelspec": {
   "display_name": "Python 3",
   "language": "python",
   "name": "python3"
  },
  "language_info": {
   "codemirror_mode": {
    "name": "ipython",
    "version": 3
   },
   "file_extension": ".py",
   "mimetype": "text/x-python",
   "name": "python",
   "nbconvert_exporter": "python",
   "pygments_lexer": "ipython3",
   "version": "3.6.9"
  }
 },
 "nbformat": 4,
 "nbformat_minor": 4
}

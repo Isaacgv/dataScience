{
 "cells": [
  {
   "cell_type": "code",
   "execution_count": 1,
   "metadata": {},
   "outputs": [],
   "source": [
    "import numpy as np"
   ]
  },
  {
   "attachments": {},
   "cell_type": "markdown",
   "metadata": {},
   "source": [
    "$Accuracy= \\frac{tp+tn}{tp+tn+fp+fn}$ \n",
    "\n",
    " \n",
    "$Precision= \\frac{tp}{tp+fp} $ -> tp/(total classificate Positive)\n",
    " \n",
    "- High precison: Not many real Positive predicted as Negative\n",
    "\n",
    "  \n",
    "$Recall= \\frac{tp}{tp+fn} $ -> tp/(total real Positive)\n",
    " \n",
    "- High recall: NPredicted most positive correctly\n",
    "\n",
    "   \n",
    "$F1-score= 2*\\frac{precision*recall}{precision+recall} $\n",
    "  \n",
    "  <img src=\"Precisionrecall.svg.png\" style=\"width:200px;height:400px\"/>"
   ]
  },
  {
   "cell_type": "markdown",
   "metadata": {},
   "source": [
    "# PIMA Indians dataset obtained from the UCI Machine Learning Repository\n",
    "\n",
    "The goal is to predict whether or not a given female patient will contract diabetes based on features such as BMI, age, and number of pregnancies. "
   ]
  },
  {
   "cell_type": "code",
   "execution_count": 2,
   "metadata": {},
   "outputs": [],
   "source": [
    "X = np.array([[6.00000000e+00, 1.48000000e+02, 7.20000000e+01, 3.50000000e+01,\n",
    "        1.55548223e+02, 3.36000000e+01, 6.27000000e-01, 5.00000000e+01],\n",
    "       [1.00000000e+00, 8.50000000e+01, 6.60000000e+01, 2.90000000e+01,\n",
    "        1.55548223e+02, 2.66000000e+01, 3.51000000e-01, 3.10000000e+01],\n",
    "       [8.00000000e+00, 1.83000000e+02, 6.40000000e+01, 2.91534196e+01,\n",
    "        1.55548223e+02, 2.33000000e+01, 6.72000000e-01, 3.20000000e+01],\n",
    "       [1.00000000e+00, 8.90000000e+01, 6.60000000e+01, 2.30000000e+01,\n",
    "        9.40000000e+01, 2.81000000e+01, 1.67000000e-01, 2.10000000e+01],\n",
    "       [0.00000000e+00, 1.37000000e+02, 4.00000000e+01, 3.50000000e+01,\n",
    "        1.68000000e+02, 4.31000000e+01, 2.28800000e+00, 3.30000000e+01],\n",
    "       [5.00000000e+00, 1.16000000e+02, 7.40000000e+01, 2.91534196e+01,\n",
    "        1.55548223e+02, 2.56000000e+01, 2.01000000e-01, 3.00000000e+01],\n",
    "       [3.00000000e+00, 7.80000000e+01, 5.00000000e+01, 3.20000000e+01,\n",
    "        8.80000000e+01, 3.10000000e+01, 2.48000000e-01, 2.60000000e+01],\n",
    "       [1.00000000e+01, 1.15000000e+02, 0.00000000e+00, 2.91534196e+01,\n",
    "        1.55548223e+02, 3.53000000e+01, 1.34000000e-01, 2.90000000e+01],\n",
    "       [2.00000000e+00, 1.97000000e+02, 7.00000000e+01, 4.50000000e+01,\n",
    "        5.43000000e+02, 3.05000000e+01, 1.58000000e-01, 5.30000000e+01],\n",
    "       [8.00000000e+00, 1.25000000e+02, 9.60000000e+01, 2.91534196e+01,\n",
    "        1.55548223e+02, 3.24574637e+01, 2.32000000e-01, 5.40000000e+01],\n",
    "       [4.00000000e+00, 1.10000000e+02, 9.20000000e+01, 2.91534196e+01,\n",
    "        1.55548223e+02, 3.76000000e+01, 1.91000000e-01, 3.00000000e+01],\n",
    "       [1.00000000e+01, 1.68000000e+02, 7.40000000e+01, 2.91534196e+01,\n",
    "        1.55548223e+02, 3.80000000e+01, 5.37000000e-01, 3.40000000e+01],\n",
    "       [1.00000000e+01, 1.39000000e+02, 8.00000000e+01, 2.91534196e+01,\n",
    "        1.55548223e+02, 2.71000000e+01, 1.44100000e+00, 5.70000000e+01],\n",
    "       [1.00000000e+00, 1.89000000e+02, 6.00000000e+01, 2.30000000e+01,\n",
    "        8.46000000e+02, 3.01000000e+01, 3.98000000e-01, 5.90000000e+01],\n",
    "       [5.00000000e+00, 1.66000000e+02, 7.20000000e+01, 1.90000000e+01,\n",
    "        1.75000000e+02, 2.58000000e+01, 5.87000000e-01, 5.10000000e+01],\n",
    "       [7.00000000e+00, 1.00000000e+02, 0.00000000e+00, 2.91534196e+01,\n",
    "        1.55548223e+02, 3.00000000e+01, 4.84000000e-01, 3.20000000e+01],\n",
    "       [0.00000000e+00, 1.18000000e+02, 8.40000000e+01, 4.70000000e+01,\n",
    "        2.30000000e+02, 4.58000000e+01, 5.51000000e-01, 3.10000000e+01],\n",
    "       [7.00000000e+00, 1.07000000e+02, 7.40000000e+01, 2.91534196e+01,\n",
    "        1.55548223e+02, 2.96000000e+01, 2.54000000e-01, 3.10000000e+01],\n",
    "       [1.00000000e+00, 1.03000000e+02, 3.00000000e+01, 3.80000000e+01,\n",
    "        8.30000000e+01, 4.33000000e+01, 1.83000000e-01, 3.30000000e+01],\n",
    "       [1.00000000e+00, 1.15000000e+02, 7.00000000e+01, 3.00000000e+01,\n",
    "        9.60000000e+01, 3.46000000e+01, 5.29000000e-01, 3.20000000e+01],\n",
    "       [3.00000000e+00, 1.26000000e+02, 8.80000000e+01, 4.10000000e+01,\n",
    "        2.35000000e+02, 3.93000000e+01, 7.04000000e-01, 2.70000000e+01],\n",
    "       [8.00000000e+00, 9.90000000e+01, 8.40000000e+01, 2.91534196e+01,\n",
    "        1.55548223e+02, 3.54000000e+01, 3.88000000e-01, 5.00000000e+01],\n",
    "       [7.00000000e+00, 1.96000000e+02, 9.00000000e+01, 2.91534196e+01,\n",
    "        1.55548223e+02, 3.98000000e+01, 4.51000000e-01, 4.10000000e+01],\n",
    "       [9.00000000e+00, 1.19000000e+02, 8.00000000e+01, 3.50000000e+01,\n",
    "        1.55548223e+02, 2.90000000e+01, 2.63000000e-01, 2.90000000e+01],\n",
    "       [1.10000000e+01, 1.43000000e+02, 9.40000000e+01, 3.30000000e+01,\n",
    "        1.46000000e+02, 3.66000000e+01, 2.54000000e-01, 5.10000000e+01],\n",
    "       [1.00000000e+01, 1.25000000e+02, 7.00000000e+01, 2.60000000e+01,\n",
    "        1.15000000e+02, 3.11000000e+01, 2.05000000e-01, 4.10000000e+01],\n",
    "       [7.00000000e+00, 1.47000000e+02, 7.60000000e+01, 2.91534196e+01,\n",
    "        1.55548223e+02, 3.94000000e+01, 2.57000000e-01, 4.30000000e+01],\n",
    "       [1.00000000e+00, 9.70000000e+01, 6.60000000e+01, 1.50000000e+01,\n",
    "        1.40000000e+02, 2.32000000e+01, 4.87000000e-01, 2.20000000e+01],\n",
    "       [1.30000000e+01, 1.45000000e+02, 8.20000000e+01, 1.90000000e+01,\n",
    "        1.10000000e+02, 2.22000000e+01, 2.45000000e-01, 5.70000000e+01],\n",
    "       [5.00000000e+00, 1.17000000e+02, 9.20000000e+01, 2.91534196e+01,\n",
    "        1.55548223e+02, 3.41000000e+01, 3.37000000e-01, 3.80000000e+01],\n",
    "       [5.00000000e+00, 1.09000000e+02, 7.50000000e+01, 2.60000000e+01,\n",
    "        1.55548223e+02, 3.60000000e+01, 5.46000000e-01, 6.00000000e+01],\n",
    "       [3.00000000e+00, 1.58000000e+02, 7.60000000e+01, 3.60000000e+01,\n",
    "        2.45000000e+02, 3.16000000e+01, 8.51000000e-01, 2.80000000e+01],\n",
    "       [3.00000000e+00, 8.80000000e+01, 5.80000000e+01, 1.10000000e+01,\n",
    "        5.40000000e+01, 2.48000000e+01, 2.67000000e-01, 2.20000000e+01],\n",
    "       [6.00000000e+00, 9.20000000e+01, 9.20000000e+01, 2.91534196e+01,\n",
    "        1.55548223e+02, 1.99000000e+01, 1.88000000e-01, 2.80000000e+01],\n",
    "       [1.00000000e+01, 1.22000000e+02, 7.80000000e+01, 3.10000000e+01,\n",
    "        1.55548223e+02, 2.76000000e+01, 5.12000000e-01, 4.50000000e+01],\n",
    "       [4.00000000e+00, 1.03000000e+02, 6.00000000e+01, 3.30000000e+01,\n",
    "        1.92000000e+02, 2.40000000e+01, 9.66000000e-01, 3.30000000e+01],\n",
    "       [1.10000000e+01, 1.38000000e+02, 7.60000000e+01, 2.91534196e+01,\n",
    "        1.55548223e+02, 3.32000000e+01, 4.20000000e-01, 3.50000000e+01],\n",
    "       [9.00000000e+00, 1.02000000e+02, 7.60000000e+01, 3.70000000e+01,\n",
    "        1.55548223e+02, 3.29000000e+01, 6.65000000e-01, 4.60000000e+01],\n",
    "       [2.00000000e+00, 9.00000000e+01, 6.80000000e+01, 4.20000000e+01,\n",
    "        1.55548223e+02, 3.82000000e+01, 5.03000000e-01, 2.70000000e+01],\n",
    "       [4.00000000e+00, 1.11000000e+02, 7.20000000e+01, 4.70000000e+01,\n",
    "        2.07000000e+02, 3.71000000e+01, 1.39000000e+00, 5.60000000e+01],\n",
    "       [3.00000000e+00, 1.80000000e+02, 6.40000000e+01, 2.50000000e+01,\n",
    "        7.00000000e+01, 3.40000000e+01, 2.71000000e-01, 2.60000000e+01],\n",
    "       [7.00000000e+00, 1.33000000e+02, 8.40000000e+01, 2.91534196e+01,\n",
    "        1.55548223e+02, 4.02000000e+01, 6.96000000e-01, 3.70000000e+01],\n",
    "       [7.00000000e+00, 1.06000000e+02, 9.20000000e+01, 1.80000000e+01,\n",
    "        1.55548223e+02, 2.27000000e+01, 2.35000000e-01, 4.80000000e+01],\n",
    "       [9.00000000e+00, 1.71000000e+02, 1.10000000e+02, 2.40000000e+01,\n",
    "        2.40000000e+02, 4.54000000e+01, 7.21000000e-01, 5.40000000e+01],\n",
    "       [7.00000000e+00, 1.59000000e+02, 6.40000000e+01, 2.91534196e+01,\n",
    "        1.55548223e+02, 2.74000000e+01, 2.94000000e-01, 4.00000000e+01],\n",
    "       [0.00000000e+00, 1.80000000e+02, 6.60000000e+01, 3.90000000e+01,\n",
    "        1.55548223e+02, 4.20000000e+01, 1.89300000e+00, 2.50000000e+01],\n",
    "       [1.00000000e+00, 1.46000000e+02, 5.60000000e+01, 2.91534196e+01,\n",
    "        1.55548223e+02, 2.97000000e+01, 5.64000000e-01, 2.90000000e+01],\n",
    "       [2.00000000e+00, 7.10000000e+01, 7.00000000e+01, 2.70000000e+01,\n",
    "        1.55548223e+02, 2.80000000e+01, 5.86000000e-01, 2.20000000e+01],\n",
    "       [7.00000000e+00, 1.03000000e+02, 6.60000000e+01, 3.20000000e+01,\n",
    "        1.55548223e+02, 3.91000000e+01, 3.44000000e-01, 3.10000000e+01],\n",
    "       [7.00000000e+00, 1.05000000e+02, 0.00000000e+00, 2.91534196e+01,\n",
    "        1.55548223e+02, 3.24574637e+01, 3.05000000e-01, 2.40000000e+01]])\n",
    "\n",
    "y = np.array([1, 0, 1, 0, 1, 0, 1, 0, 1, 1, 0, 1, 0, 1, 1, 1, 1, 1, 0, 1, 0, 0,\n",
    "       1, 1, 1, 1, 1, 0, 0, 0, 0, 1, 0, 0, 0, 0, 0, 1, 1, 1, 0, 0, 0, 1,\n",
    "       0, 1, 0, 0, 1, 0])"
   ]
  },
  {
   "cell_type": "code",
   "execution_count": 3,
   "metadata": {},
   "outputs": [],
   "source": [
    "# Import necessary modules\n",
    "from sklearn.metrics import classification_report, confusion_matrix\n",
    "from sklearn.model_selection import train_test_split \n",
    "from sklearn.neighbors import KNeighborsClassifier\n",
    "\n",
    "# Create training and test set\n",
    "X_train, X_test, y_train, y_test = train_test_split(X, y, test_size = 0.4, random_state=42)\n",
    "\n",
    "# Instantiate a k-NN classifier: knn\n",
    "knn = KNeighborsClassifier(n_neighbors = 6)"
   ]
  },
  {
   "cell_type": "code",
   "execution_count": 4,
   "metadata": {},
   "outputs": [],
   "source": [
    "# Fit the classifier to the training data\n",
    "knn.fit(X_train, y_train)\n",
    "\n",
    "# Predict the labels of the test data: y_pred\n",
    "y_pred = knn.predict(X_test)"
   ]
  },
  {
   "cell_type": "code",
   "execution_count": 5,
   "metadata": {},
   "outputs": [
    {
     "name": "stdout",
     "output_type": "stream",
     "text": [
      "[[ 7  0]\n",
      " [10  3]]\n",
      "              precision    recall  f1-score   support\n",
      "\n",
      "           0       0.41      1.00      0.58         7\n",
      "           1       1.00      0.23      0.38        13\n",
      "\n",
      "    accuracy                           0.50        20\n",
      "   macro avg       0.71      0.62      0.48        20\n",
      "weighted avg       0.79      0.50      0.45        20\n",
      "\n"
     ]
    }
   ],
   "source": [
    "# Generate the confusion matrix and classification report\n",
    "print(confusion_matrix(y_test, y_pred))\n",
    "print(classification_report( y_test, y_pred))\n"
   ]
  },
  {
   "cell_type": "markdown",
   "metadata": {},
   "source": [
    "# Building a logistic regression model"
   ]
  },
  {
   "cell_type": "code",
   "execution_count": 6,
   "metadata": {},
   "outputs": [],
   "source": [
    "from sklearn.linear_model import LogisticRegression\n",
    "\n",
    "# Create the classifier: logreg\n",
    "logreg = LogisticRegression(max_iter=200)\n",
    "\n",
    "# Fit the classifier to the training data\n",
    "logreg.fit(X_train, y_train)\n",
    "\n",
    "# Predict the labels of the test set: y_pred\n",
    "y_pred = logreg.predict(X_test)"
   ]
  },
  {
   "cell_type": "code",
   "execution_count": 7,
   "metadata": {},
   "outputs": [
    {
     "name": "stdout",
     "output_type": "stream",
     "text": [
      "[[6 1]\n",
      " [7 6]]\n",
      "              precision    recall  f1-score   support\n",
      "\n",
      "           0       0.46      0.86      0.60         7\n",
      "           1       0.86      0.46      0.60        13\n",
      "\n",
      "    accuracy                           0.60        20\n",
      "   macro avg       0.66      0.66      0.60        20\n",
      "weighted avg       0.72      0.60      0.60        20\n",
      "\n"
     ]
    }
   ],
   "source": [
    "# Compute and print the confusion matrix and classification report\n",
    "print(confusion_matrix(y_test, y_pred))\n",
    "print(classification_report(y_test, y_pred))"
   ]
  },
  {
   "cell_type": "markdown",
   "metadata": {},
   "source": [
    "# Plotting an ROC curve"
   ]
  },
  {
   "cell_type": "code",
   "execution_count": 8,
   "metadata": {},
   "outputs": [
    {
     "data": {
      "image/png": "[encoded data removed]",
      "text/plain": [
       "<Figure size 432x288 with 1 Axes>"
      ]
     },
     "metadata": {
      "needs_background": "light"
     },
     "output_type": "display_data"
    }
   ],
   "source": [
    "# Import necessary modules\n",
    "from matplotlib import pyplot as plt\n",
    "from sklearn.metrics import roc_curve\n",
    "\n",
    "# Compute predicted probabilities: y_pred_prob\n",
    "y_pred_prob = logreg.predict_proba(X_test)[:,1]\n",
    "\n",
    "# Generate ROC curve values: fpr, tpr, thresholds\n",
    "fpr, tpr, thresholds = roc_curve(y_test, y_pred_prob)\n",
    "\n",
    "# Plot ROC curve\n",
    "plt.plot([0, 1], [0, 1], 'k--')\n",
    "plt.plot(fpr, tpr)\n",
    "plt.xlabel('False Positive Rate')\n",
    "plt.ylabel('True Positive Rate')\n",
    "plt.title('ROC Curve')\n",
    "plt.show()"
   ]
  },
  {
   "cell_type": "markdown",
   "metadata": {},
   "source": [
    " - y-axis (True positive rate) is also known as recall"
   ]
  },
  {
   "cell_type": "markdown",
   "metadata": {},
   "source": [
    "# Precision-recall Curve"
   ]
  },
  {
   "cell_type": "markdown",
   "metadata": {},
   "source": [
    "- A recall of 1 corresponds to a classifier with a low threshold  in which TRUE were correctly classified as such, at the expense of many misclassifications of those who did not TRUE.\n",
    "- When the threshold is very close to 1, precision is also 1, because the classifier is absolutely certain about its predictions.\n",
    "- Precision and recall take true negatives into consideration.\n",
    "- Precision is undefined for a classifier which makes no positive prediction."
   ]
  },
  {
   "cell_type": "markdown",
   "metadata": {},
   "source": [
    "<img src=\"precision-recall.png\" style=\"width:300px;height:200px\"/>"
   ]
  },
  {
   "cell_type": "markdown",
   "metadata": {},
   "source": [
    "# Area under the ROC curve (AUC)"
   ]
  },
  {
   "cell_type": "code",
   "execution_count": 9,
   "metadata": {},
   "outputs": [
    {
     "name": "stdout",
     "output_type": "stream",
     "text": [
      "AUC: 0.7032967032967032\n",
      "AUC scores computed using 5-fold cross-validation: [0.8  0.32 0.64 0.72 0.72]\n"
     ]
    }
   ],
   "source": [
    "# Import necessary modules\n",
    "from sklearn.metrics import roc_auc_score\n",
    "from sklearn.model_selection import cross_val_score\n",
    "\n",
    "# Compute predicted probabilities: y_pred_prob\n",
    "y_pred_prob = logreg.predict_proba(X_test)[:,1]\n",
    "\n",
    "# Compute and print AUC score\n",
    "print(\"AUC: {}\".format(roc_auc_score(y_test, y_pred_prob)))\n",
    "\n",
    "# Compute cross-validated AUC scores: cv_auc\n",
    "cv_auc = cross_val_score(logreg, X, y,cv=5, scoring=\"roc_auc\")\n",
    "\n",
    "# Print list of AUC scores\n",
    "print(\"AUC scores computed using 5-fold cross-validation: {}\".format(cv_auc))"
   ]
  },
  {
   "cell_type": "markdown",
   "metadata": {},
   "source": [
    "# Hyperparameter tuning with GridSearchCV"
   ]
  },
  {
   "cell_type": "code",
   "execution_count": 10,
   "metadata": {},
   "outputs": [
    {
     "name": "stdout",
     "output_type": "stream",
     "text": [
      "Tuned Logistic Regression Parameters: {'C': 1e-05}\n",
      "Best score is 0.7\n"
     ]
    }
   ],
   "source": [
    "# Import necessary modules\n",
    "from sklearn.linear_model import LogisticRegression\n",
    "from sklearn.model_selection import GridSearchCV\n",
    "\n",
    "# Setup the hyperparameter grid\n",
    "c_space = np.logspace(-5, 8, 15)\n",
    "param_grid = {'C': c_space}\n",
    "\n",
    "# Instantiate a logistic regression classifier: logreg\n",
    "logreg = LogisticRegression(max_iter=300)\n",
    "\n",
    "# Instantiate the GridSearchCV object: logreg_cv\n",
    "logreg_cv = GridSearchCV(logreg, param_grid, cv=5)\n",
    "\n",
    "# Fit it to the data\n",
    "logreg_cv.fit(X, y)\n",
    "\n",
    "\n",
    "# Print the tuned parameters and score\n",
    "print(\"Tuned Logistic Regression Parameters: {}\".format(logreg_cv.best_params_)) \n",
    "print(\"Best score is {}\".format(logreg_cv.best_score_))\n"
   ]
  },
  {
   "cell_type": "markdown",
   "metadata": {},
   "source": [
    "# Hyperparameter tuning with RandomizedSearchCV"
   ]
  },
  {
   "cell_type": "code",
   "execution_count": 11,
   "metadata": {},
   "outputs": [
    {
     "name": "stdout",
     "output_type": "stream",
     "text": [
      "Tuned Decision Tree Parameters: {'criterion': 'gini', 'max_depth': 3, 'max_features': 3, 'min_samples_leaf': 6}\n",
      "Best score is 0.66\n"
     ]
    }
   ],
   "source": [
    "# Import necessary modules\n",
    "from scipy.stats import randint\n",
    "from sklearn.tree import DecisionTreeClassifier\n",
    "from sklearn.model_selection import RandomizedSearchCV\n",
    "\n",
    "# Setup the parameters and distributions to sample from: param_dist\n",
    "param_dist = {\"max_depth\": [3, None],\n",
    "              \"max_features\": randint(1, 9),\n",
    "              \"min_samples_leaf\": randint(1, 9),\n",
    "              \"criterion\": [\"gini\", \"entropy\"]}\n",
    "\n",
    "# Instantiate a Decision Tree classifier: tree\n",
    "tree = DecisionTreeClassifier()\n",
    "\n",
    "# Instantiate the RandomizedSearchCV object: tree_cv\n",
    "tree_cv = RandomizedSearchCV(tree, param_dist, cv=5)\n",
    "\n",
    "# Fit it to the data\n",
    "tree_cv.fit(X, y)\n",
    "\n",
    "# Print the tuned parameters and score\n",
    "print(\"Tuned Decision Tree Parameters: {}\".format(tree_cv.best_params_))\n",
    "print(\"Best score is {}\".format(tree_cv.best_score_))"
   ]
  },
  {
   "cell_type": "markdown",
   "metadata": {},
   "source": [
    "# Hold-out\n",
    "- You want to be absolutely certain about your model's ability to generalize to unseen data."
   ]
  },
  {
   "cell_type": "code",
   "execution_count": 12,
   "metadata": {},
   "outputs": [],
   "source": [
    "\n",
    "from sklearn.model_selection import train_test_split\n",
    "from sklearn.linear_model import LogisticRegression\n",
    "from sklearn.model_selection import GridSearchCV\n",
    "\n",
    "# Create the hyperparameter grid\n",
    "c_space = np.logspace(-5, 8, 15)\n",
    "param_grid = {'C': c_space, 'penalty': ['l2']}\n",
    "\n",
    "# Instantiate the logistic regression classifier: logreg\n",
    "logreg = LogisticRegression(max_iter=500)\n",
    "\n",
    "# Create train and test sets\n",
    "X_train, X_test, y_train, y_test = train_test_split(X, y, test_size=0.4, random_state=42)\n",
    "\n",
    "# Instantiate the GridSearchCV object: logreg_cv\n",
    "logreg_cv = GridSearchCV(logreg, param_grid, cv=5)"
   ]
  },
  {
   "cell_type": "code",
   "execution_count": 13,
   "metadata": {},
   "outputs": [
    {
     "name": "stdout",
     "output_type": "stream",
     "text": [
      "Tuned Logistic Regression Parameter: {'C': 0.006105402296585327, 'penalty': 'l2'}\n",
      "Tuned Logistic Regression Accuracy: 0.7999999999999999\n"
     ]
    }
   ],
   "source": [
    "# Fit it to the training data\n",
    "logreg_cv.fit(X_train, y_train)\n",
    "\n",
    "# Print the optimal parameters and best score\n",
    "print(\"Tuned Logistic Regression Parameter: {}\".format(logreg_cv.best_params_))\n",
    "print(\"Tuned Logistic Regression Accuracy: {}\".format(logreg_cv.best_score_))"
   ]
  },
  {
   "cell_type": "markdown",
   "metadata": {},
   "source": [
    "# Hold-out: Regression"
   ]
  },
  {
   "cell_type": "markdown",
   "metadata": {},
   "source": [
    "In elastic net regularization, the penalty term is a linear combination of the L1 and L2 penalties:\n",
    "\n",
    "$a∗L1+b∗L2$"
   ]
  },
  {
   "cell_type": "code",
   "execution_count": 14,
   "metadata": {},
   "outputs": [],
   "source": [
    "from sklearn.linear_model import ElasticNet\n",
    "from sklearn.metrics import mean_squared_error\n",
    "from sklearn.model_selection import GridSearchCV, train_test_split\n",
    "\n",
    "# Create train and test sets\n",
    "X_train, X_test, y_train, y_test = train_test_split(X, y, test_size=0.4, random_state=42)"
   ]
  },
  {
   "cell_type": "code",
   "execution_count": 15,
   "metadata": {},
   "outputs": [],
   "source": [
    "# Create the hyperparameter grid\n",
    "l1_space = np.linspace(0, 1, 30)\n",
    "param_grid = {'l1_ratio': l1_space}\n",
    "\n",
    "# Instantiate the ElasticNet regressor: elastic_net\n",
    "elastic_net = ElasticNet(max_iter=2000)\n"
   ]
  },
  {
   "cell_type": "code",
   "execution_count": 16,
   "metadata": {},
   "outputs": [
    {
     "name": "stderr",
     "output_type": "stream",
     "text": [
      "/home/isaac/.local/lib/python3.6/site-packages/sklearn/linear_model/_coordinate_descent.py:476: ConvergenceWarning: Objective did not converge. You might want to increase the number of iterations. Duality gap: 1.502375421755114, tolerance: 0.0004958333333333334\n",
      "  positive)\n",
      "/home/isaac/.local/lib/python3.6/site-packages/sklearn/linear_model/_coordinate_descent.py:476: ConvergenceWarning: Objective did not converge. You might want to increase the number of iterations. Duality gap: 1.3754978367230508, tolerance: 0.0005958333333333336\n",
      "  positive)\n",
      "/home/isaac/.local/lib/python3.6/site-packages/sklearn/linear_model/_coordinate_descent.py:476: ConvergenceWarning: Objective did not converge. You might want to increase the number of iterations. Duality gap: 1.6250101313295873, tolerance: 0.0005833333333333331\n",
      "  positive)\n",
      "/home/isaac/.local/lib/python3.6/site-packages/sklearn/linear_model/_coordinate_descent.py:476: ConvergenceWarning: Objective did not converge. You might want to increase the number of iterations. Duality gap: 1.1962316217779578, tolerance: 0.0005833333333333331\n",
      "  positive)\n",
      "/home/isaac/.local/lib/python3.6/site-packages/sklearn/linear_model/_coordinate_descent.py:476: ConvergenceWarning: Objective did not converge. You might want to increase the number of iterations. Duality gap: 1.1557448855913806, tolerance: 0.0005833333333333331\n",
      "  positive)\n"
     ]
    },
    {
     "data": {
      "text/plain": [
       "GridSearchCV(cv=5, error_score=nan,\n",
       "             estimator=ElasticNet(alpha=1.0, copy_X=True, fit_intercept=True,\n",
       "                                  l1_ratio=0.5, max_iter=2000, normalize=False,\n",
       "                                  positive=False, precompute=False,\n",
       "                                  random_state=None, selection='cyclic',\n",
       "                                  tol=0.0001, warm_start=False),\n",
       "             iid='deprecated', n_jobs=None,\n",
       "             param_grid={'l1_ratio': array([0.        , 0.03448276, 0.06896552, 0.10344828, 0.13793103,\n",
       "       0.17241379, 0.20689655, 0.24137931, 0.27586207, 0.31034483,\n",
       "       0.34482759, 0.37931034, 0.4137931 , 0.44827586, 0.48275862,\n",
       "       0.51724138, 0.55172414, 0.5862069 , 0.62068966, 0.65517241,\n",
       "       0.68965517, 0.72413793, 0.75862069, 0.79310345, 0.82758621,\n",
       "       0.86206897, 0.89655172, 0.93103448, 0.96551724, 1.        ])},\n",
       "             pre_dispatch='2*n_jobs', refit=True, return_train_score=False,\n",
       "             scoring=None, verbose=0)"
      ]
     },
     "execution_count": 16,
     "metadata": {},
     "output_type": "execute_result"
    }
   ],
   "source": [
    "\n",
    "# Setup the GridSearchCV object: gm_cv\n",
    "gm_cv = GridSearchCV(elastic_net, param_grid, cv=5)\n",
    "\n",
    "# Fit it to the training data\n",
    "gm_cv.fit(X_train, y_train)"
   ]
  },
  {
   "cell_type": "code",
   "execution_count": 17,
   "metadata": {},
   "outputs": [
    {
     "name": "stdout",
     "output_type": "stream",
     "text": [
      "Tuned ElasticNet l1 ratio: {'l1_ratio': 0.3793103448275862}\n",
      "Tuned ElasticNet R squared: -1.5944091861934298\n",
      "Tuned ElasticNet MSE: 0.5902280898590052\n"
     ]
    }
   ],
   "source": [
    "# Predict on the test set and compute metrics\n",
    "y_pred = gm_cv.predict(X_test)\n",
    "r2 = gm_cv.score(X_test, y_test)\n",
    "mse = mean_squared_error(y_test, y_pred)\n",
    "print(\"Tuned ElasticNet l1 ratio: {}\".format(gm_cv.best_params_))\n",
    "print(\"Tuned ElasticNet R squared: {}\".format(r2))\n",
    "print(\"Tuned ElasticNet MSE: {}\".format(mse))"
   ]
  },
  {
   "cell_type": "code",
   "execution_count": null,
   "metadata": {},
   "outputs": [],
   "source": []
  }
 ],
 "metadata": {
  "kernelspec": {
   "display_name": "Python 3",
   "language": "python",
   "name": "python3"
  },
  "language_info": {
   "codemirror_mode": {
    "name": "ipython",
    "version": 3
   },
   "file_extension": ".py",
   "mimetype": "text/x-python",
   "name": "python",
   "nbconvert_exporter": "python",
   "pygments_lexer": "ipython3",
   "version": "3.6.9"
  }
 },
 "nbformat": 4,
 "nbformat_minor": 4
}

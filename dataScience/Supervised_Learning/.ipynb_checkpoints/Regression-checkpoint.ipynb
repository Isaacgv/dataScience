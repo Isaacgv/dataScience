{
 "cells": [
  {
   "cell_type": "code",
   "execution_count": 12,
   "metadata": {},
   "outputs": [],
   "source": [
    "import numpy as np\n",
    "import pandas as pd\n",
    "import seaborn as sns\n",
    "import matplotlib.pyplot as plt"
   ]
  },
  {
   "cell_type": "markdown",
   "metadata": {},
   "source": [
    "# Gapminder data"
   ]
  },
  {
   "cell_type": "code",
   "execution_count": 3,
   "metadata": {},
   "outputs": [],
   "source": [
    "columns = ['population', 'fertility', 'HIV', 'CO2', 'BMI_male', 'GDP',\n",
    "       'BMI_female', 'life', 'child_mortality']"
   ]
  },
  {
   "cell_type": "code",
   "execution_count": 4,
   "metadata": {},
   "outputs": [],
   "source": [
    "data=np.array([[3.48110590e+07, 2.73000000e+00, 1.00000000e-01, 3.32894466e+00,\n",
    "        2.45962000e+01, 1.23140000e+04, 1.29904900e+02, 7.53000000e+01,\n",
    "        2.95000000e+01],\n",
    "       [1.98422510e+07, 6.43000000e+00, 2.00000000e+00, 1.47435339e+00,\n",
    "        2.22508300e+01, 7.10300000e+03, 1.30124700e+02, 5.83000000e+01,\n",
    "        1.92000000e+02],\n",
    "       [4.03818600e+07, 2.24000000e+00, 5.00000000e-01, 4.78516998e+00,\n",
    "        2.75017000e+01, 1.46460000e+04, 1.18891500e+02, 7.55000000e+01,\n",
    "        1.54000000e+01],\n",
    "       [2.97502900e+06, 1.40000000e+00, 1.00000000e-01, 1.80410622e+00,\n",
    "        2.53554200e+01, 7.38300000e+03, 1.32810800e+02, 7.25000000e+01,\n",
    "        2.00000000e+01],\n",
    "       [2.13703480e+07, 1.96000000e+00, 1.00000000e-01, 1.80163133e+01,\n",
    "        2.75637300e+01, 4.13120000e+04, 1.17375500e+02, 8.15000000e+01,\n",
    "        5.20000000e+00],\n",
    "       [8.33146500e+06, 1.41000000e+00, 3.00000000e-01, 8.18316002e+00,\n",
    "        2.64674100e+01, 4.39520000e+04, 1.24139400e+02, 8.04000000e+01,\n",
    "        4.60000000e+00],\n",
    "       [8.86871300e+06, 1.99000000e+00, 1.00000000e-01, 5.10953829e+00,\n",
    "        2.56511700e+01, 1.43650000e+04, 1.28602400e+02, 7.06000000e+01,\n",
    "        4.33000000e+01],\n",
    "       [3.48587000e+05, 1.89000000e+00, 3.10000000e+00, 3.13192132e+00,\n",
    "        2.72459400e+01, 2.43730000e+04, 1.24386200e+02, 7.22000000e+01,\n",
    "        1.45000000e+01],\n",
    "       [1.48252473e+08, 2.38000000e+00, 6.00000000e-02, 3.19161002e-01,\n",
    "        2.03974200e+01, 2.26500000e+03, 1.25030700e+02, 6.84000000e+01,\n",
    "        5.59000000e+01],\n",
    "       [2.77315000e+05, 1.83000000e+00, 1.30000000e+00, 6.00827884e+00,\n",
    "        2.63843900e+01, 1.60750000e+04, 1.26394000e+02, 7.53000000e+01,\n",
    "        1.54000000e+01],\n",
    "       [9.52645300e+06, 1.42000000e+00, 2.00000000e-01, 6.48817388e+00,\n",
    "        2.61644300e+01, 1.44880000e+04, 1.29796800e+02, 7.01000000e+01,\n",
    "        7.20000000e+00],\n",
    "       [1.07791550e+07, 1.82000000e+00, 2.00000000e-01, 9.79733671e+00,\n",
    "        2.67591500e+01, 4.16410000e+04, 1.21822700e+02, 7.94000000e+01,\n",
    "        4.70000000e+00],\n",
    "       [3.06165000e+05, 2.91000000e+00, 2.40000000e+00, 1.36012592e+00,\n",
    "        2.70225500e+01, 8.29300000e+03, 1.20922400e+02, 7.07000000e+01,\n",
    "        2.01000000e+01],\n",
    "       [8.97352500e+06, 5.27000000e+00, 1.20000000e+00, 5.37539184e-01,\n",
    "        2.24183500e+01, 1.64600000e+03, 1.30272300e+02, 6.32000000e+01,\n",
    "        1.16300000e+02],\n",
    "       [6.94990000e+05, 2.51000000e+00, 2.00000000e-01, 6.01210310e-01,\n",
    "        2.28218000e+01, 5.66300000e+03, 1.25125800e+02, 6.76000000e+01,\n",
    "        4.81000000e+01],\n",
    "       [9.59991600e+06, 3.48000000e+00, 2.00000000e-01, 1.43182915e+00,\n",
    "        2.44333500e+01, 5.06600000e+03, 1.22415500e+02, 7.09000000e+01,\n",
    "        5.20000000e+01],\n",
    "       [1.96786600e+06, 2.86000000e+00, 2.49000000e+01, 2.54720549e+00,\n",
    "        2.21298400e+01, 1.38580000e+04, 1.33130700e+02, 6.12000000e+01,\n",
    "        6.38000000e+01],\n",
    "       [1.94769696e+08, 1.90000000e+00, 4.50000000e-01, 2.02377284e+00,\n",
    "        2.57862300e+01, 1.39060000e+04, 1.24874500e+02, 7.39000000e+01,\n",
    "        1.86000000e+01],\n",
    "       [7.51364600e+06, 1.43000000e+00, 1.00000000e-01, 6.69013908e+00,\n",
    "        2.65428600e+01, 1.53680000e+04, 1.28472100e+02, 7.32000000e+01,\n",
    "        1.37000000e+01],\n",
    "       [1.47090110e+07, 6.04000000e+00, 1.20000000e+00, 1.09419171e-01,\n",
    "        2.12715700e+01, 1.35800000e+03, 1.30665100e+02, 5.94000000e+01,\n",
    "        1.30400000e+02],\n",
    "       [8.82179500e+06, 6.48000000e+00, 3.50000000e+00, 3.13888013e-02,\n",
    "        2.15029100e+01, 7.23000000e+02, 1.34195500e+02, 5.74000000e+01,\n",
    "        1.08600000e+02],\n",
    "       [1.39336600e+07, 3.05000000e+00, 6.00000000e-01, 2.87547496e-01,\n",
    "        2.08049600e+01, 2.44200000e+03, 1.17552800e+02, 6.62000000e+01,\n",
    "        5.15000000e+01],\n",
    "       [1.95704180e+07, 5.17000000e+00, 5.30000000e+00, 2.95541639e-01,\n",
    "        2.36817300e+01, 2.57100000e+03, 1.27282300e+02, 5.66000000e+01,\n",
    "        1.13800000e+02],\n",
    "       [3.33632560e+07, 1.68000000e+00, 2.00000000e-01, 1.63503986e+01,\n",
    "        2.74521000e+01, 4.14680000e+04, 1.18057100e+02, 8.07000000e+01,\n",
    "        5.80000000e+00],\n",
    "       [1.11397400e+07, 6.81000000e+00, 3.40000000e+00, 4.78391264e-02,\n",
    "        2.14856900e+01, 1.75300000e+03, 1.27864000e+02, 5.48000000e+01,\n",
    "        1.68000000e+02],\n",
    "       [1.66459400e+07, 1.89000000e+00, 4.00000000e-01, 4.24025914e+00,\n",
    "        2.70154200e+01, 1.86980000e+04, 1.25541700e+02, 7.89000000e+01,\n",
    "        8.90000000e+00],\n",
    "       [4.49016600e+07, 2.43000000e+00, 5.00000000e-01, 1.47609182e+00,\n",
    "        2.49404100e+01, 1.04890000e+04, 1.24023500e+02, 7.51000000e+01,\n",
    "        1.97000000e+01],\n",
    "       [6.65414000e+05, 5.05000000e+00, 6.00000000e-02, 1.78853064e-01,\n",
    "        2.20613100e+01, 1.44000000e+03, 1.32135400e+02, 6.26000000e+01,\n",
    "        9.12000000e+01],\n",
    "       [3.83277100e+06, 5.10000000e+00, 3.50000000e+00, 3.84220477e-01,\n",
    "        2.18713400e+01, 5.02200000e+03, 1.31693500e+02, 5.86000000e+01,\n",
    "        7.26000000e+01],\n",
    "       [4.42950600e+06, 1.91000000e+00, 3.00000000e-01, 1.91193342e+00,\n",
    "        2.64789700e+01, 1.22190000e+04, 1.21350000e+02, 7.97000000e+01,\n",
    "        1.03000000e+01],\n",
    "       [1.92616470e+07, 4.91000000e+00, 3.70000000e+00, 3.61896603e-01,\n",
    "        2.25646900e+01, 2.85400000e+03, 1.31523700e+02, 5.59000000e+01,\n",
    "        1.16900000e+02],\n",
    "       [4.34415100e+06, 1.43000000e+00, 6.00000000e-02, 5.28790258e+00,\n",
    "        2.65962900e+01, 2.18730000e+04, 1.30392100e+02, 7.65000000e+01,\n",
    "        5.90000000e+00],\n",
    "       [1.12902390e+07, 1.50000000e+00, 1.00000000e-01, 2.70177717e+00,\n",
    "        2.50686700e+01, 1.77650000e+04, 1.26059400e+02, 7.78000000e+01,\n",
    "        6.30000000e+00],\n",
    "       [5.49530200e+06, 1.89000000e+00, 2.00000000e-01, 8.54150780e+00,\n",
    "        2.61328700e+01, 4.50170000e+04, 1.19581500e+02, 7.87000000e+01,\n",
    "        4.30000000e+00],\n",
    "       [8.09639000e+05, 3.76000000e+00, 2.60000000e+00, 6.12799524e-01,\n",
    "        2.33840300e+01, 2.50200000e+03, 1.29337600e+02, 6.10000000e+01,\n",
    "        8.10000000e+01],\n",
    "       [1.44476000e+07, 2.73000000e+00, 4.00000000e-01, 2.11051780e+00,\n",
    "        2.55884100e+01, 9.24400000e+03, 1.22986400e+02, 7.40000000e+01,\n",
    "        2.68000000e+01],\n",
    "       [7.89761220e+07, 2.95000000e+00, 6.00000000e-02, 2.51239420e+00,\n",
    "        2.67324300e+01, 9.97400000e+03, 1.25093100e+02, 7.01000000e+01,\n",
    "        3.14000000e+01],\n",
    "       [6.00419900e+06, 2.32000000e+00, 8.00000000e-01, 1.06776463e+00,\n",
    "        2.63675100e+01, 7.45000000e+03, 1.19932100e+02, 7.41000000e+01,\n",
    "        2.16000000e+01],\n",
    "       [6.86223000e+05, 5.31000000e+00, 4.70000000e+00, 6.79825323e+00,\n",
    "        2.37664000e+01, 4.01430000e+04, 1.32039200e+02, 5.67000000e+01,\n",
    "        1.18400000e+02],\n",
    "       [4.50063800e+06, 5.16000000e+00, 8.00000000e-01, 8.37456442e-02,\n",
    "        2.08850900e+01, 1.08800000e+03, 1.25794800e+02, 6.04000000e+01,\n",
    "        6.04000000e+01],\n",
    "       [1.33994100e+06, 1.62000000e+00, 1.20000000e+00, 1.30313789e+01,\n",
    "        2.62644600e+01, 2.47430000e+04, 1.29516100e+02, 7.40000000e+01,\n",
    "        5.50000000e+00],\n",
    "       [8.43206000e+05, 2.74000000e+00, 1.00000000e-01, 1.27777956e+00,\n",
    "        2.65307800e+01, 7.12900000e+03, 1.27476800e+02, 6.57000000e+01,\n",
    "        2.40000000e+01],\n",
    "       [5.31417000e+06, 1.85000000e+00, 1.00000000e-01, 1.06441143e+01,\n",
    "        2.67333900e+01, 4.21220000e+04, 1.26564500e+02, 7.94000000e+01,\n",
    "        3.30000000e+00],\n",
    "       [6.23095290e+07, 1.97000000e+00, 4.00000000e-01, 5.99902073e+00,\n",
    "        2.58532900e+01, 3.75050000e+04, 1.20014600e+02, 8.10000000e+01,\n",
    "        4.30000000e+00],\n",
    "       [1.47374100e+06, 4.28000000e+00, 5.30000000e+00, 1.07953932e+00,\n",
    "        2.40762000e+01, 1.58000000e+04, 1.30362500e+02, 5.75000000e+01,\n",
    "        6.80000000e+01],\n",
    "       [1.58674900e+06, 5.80000000e+00, 1.70000000e+00, 2.51002328e-01,\n",
    "        2.16502900e+01, 1.56600000e+03, 1.30208000e+02, 6.22000000e+01,\n",
    "        8.74000000e+01],\n",
    "       [4.34329000e+06, 1.79000000e+00, 1.00000000e-01, 1.41942978e+00,\n",
    "        2.55494200e+01, 5.90000000e+03, 1.30578900e+02, 7.21000000e+01,\n",
    "        1.93000000e+01],\n",
    "       [8.06659060e+07, 1.37000000e+00, 1.00000000e-01, 9.49724676e+00,\n",
    "        2.71650900e+01, 4.11990000e+04, 1.24904400e+02, 8.00000000e+01,\n",
    "        4.40000000e+00],\n",
    "       [2.31159190e+07, 4.19000000e+00, 1.80000000e+00, 3.66600849e-01,\n",
    "        2.28424700e+01, 2.90700000e+03, 1.28295300e+02, 6.27000000e+01,\n",
    "        7.99000000e+01],\n",
    "       [1.11617550e+07, 1.46000000e+00, 1.00000000e-01, 8.66123553e+00,\n",
    "        2.63378600e+01, 3.21970000e+04, 1.22934200e+02, 7.95000000e+01,\n",
    "        4.90000000e+00]])"
   ]
  },
  {
   "cell_type": "code",
   "execution_count": 5,
   "metadata": {},
   "outputs": [],
   "source": [
    "df = pd.DataFrame(data, columns= columns)"
   ]
  },
  {
   "cell_type": "code",
   "execution_count": 6,
   "metadata": {},
   "outputs": [
    {
     "data": {
      "text/html": [
       "<div>\n",
       "<style scoped>\n",
       "    .dataframe tbody tr th:only-of-type {\n",
       "        vertical-align: middle;\n",
       "    }\n",
       "\n",
       "    .dataframe tbody tr th {\n",
       "        vertical-align: top;\n",
       "    }\n",
       "\n",
       "    .dataframe thead th {\n",
       "        text-align: right;\n",
       "    }\n",
       "</style>\n",
       "<table border=\"1\" class=\"dataframe\">\n",
       "  <thead>\n",
       "    <tr style=\"text-align: right;\">\n",
       "      <th></th>\n",
       "      <th>population</th>\n",
       "      <th>fertility</th>\n",
       "      <th>HIV</th>\n",
       "      <th>CO2</th>\n",
       "      <th>BMI_male</th>\n",
       "      <th>GDP</th>\n",
       "      <th>BMI_female</th>\n",
       "      <th>life</th>\n",
       "      <th>child_mortality</th>\n",
       "    </tr>\n",
       "  </thead>\n",
       "  <tbody>\n",
       "    <tr>\n",
       "      <th>0</th>\n",
       "      <td>34811059.0</td>\n",
       "      <td>2.73</td>\n",
       "      <td>0.1</td>\n",
       "      <td>3.328945</td>\n",
       "      <td>24.59620</td>\n",
       "      <td>12314.0</td>\n",
       "      <td>129.9049</td>\n",
       "      <td>75.3</td>\n",
       "      <td>29.5</td>\n",
       "    </tr>\n",
       "    <tr>\n",
       "      <th>1</th>\n",
       "      <td>19842251.0</td>\n",
       "      <td>6.43</td>\n",
       "      <td>2.0</td>\n",
       "      <td>1.474353</td>\n",
       "      <td>22.25083</td>\n",
       "      <td>7103.0</td>\n",
       "      <td>130.1247</td>\n",
       "      <td>58.3</td>\n",
       "      <td>192.0</td>\n",
       "    </tr>\n",
       "    <tr>\n",
       "      <th>2</th>\n",
       "      <td>40381860.0</td>\n",
       "      <td>2.24</td>\n",
       "      <td>0.5</td>\n",
       "      <td>4.785170</td>\n",
       "      <td>27.50170</td>\n",
       "      <td>14646.0</td>\n",
       "      <td>118.8915</td>\n",
       "      <td>75.5</td>\n",
       "      <td>15.4</td>\n",
       "    </tr>\n",
       "    <tr>\n",
       "      <th>3</th>\n",
       "      <td>2975029.0</td>\n",
       "      <td>1.40</td>\n",
       "      <td>0.1</td>\n",
       "      <td>1.804106</td>\n",
       "      <td>25.35542</td>\n",
       "      <td>7383.0</td>\n",
       "      <td>132.8108</td>\n",
       "      <td>72.5</td>\n",
       "      <td>20.0</td>\n",
       "    </tr>\n",
       "    <tr>\n",
       "      <th>4</th>\n",
       "      <td>21370348.0</td>\n",
       "      <td>1.96</td>\n",
       "      <td>0.1</td>\n",
       "      <td>18.016313</td>\n",
       "      <td>27.56373</td>\n",
       "      <td>41312.0</td>\n",
       "      <td>117.3755</td>\n",
       "      <td>81.5</td>\n",
       "      <td>5.2</td>\n",
       "    </tr>\n",
       "  </tbody>\n",
       "</table>\n",
       "</div>"
      ],
      "text/plain": [
       "   population  fertility  HIV        CO2  BMI_male      GDP  BMI_female  life  \\\n",
       "0  34811059.0       2.73  0.1   3.328945  24.59620  12314.0    129.9049  75.3   \n",
       "1  19842251.0       6.43  2.0   1.474353  22.25083   7103.0    130.1247  58.3   \n",
       "2  40381860.0       2.24  0.5   4.785170  27.50170  14646.0    118.8915  75.5   \n",
       "3   2975029.0       1.40  0.1   1.804106  25.35542   7383.0    132.8108  72.5   \n",
       "4  21370348.0       1.96  0.1  18.016313  27.56373  41312.0    117.3755  81.5   \n",
       "\n",
       "   child_mortality  \n",
       "0             29.5  \n",
       "1            192.0  \n",
       "2             15.4  \n",
       "3             20.0  \n",
       "4              5.2  "
      ]
     },
     "execution_count": 6,
     "metadata": {},
     "output_type": "execute_result"
    }
   ],
   "source": [
    "df.head()"
   ]
  },
  {
   "cell_type": "code",
   "execution_count": 7,
   "metadata": {},
   "outputs": [],
   "source": [
    "# Create arrays for features and target variable\n",
    "y = df.life.values\n",
    "X = df.fertility.values"
   ]
  },
  {
   "cell_type": "code",
   "execution_count": 8,
   "metadata": {},
   "outputs": [
    {
     "name": "stdout",
     "output_type": "stream",
     "text": [
      "Dimensions of y before reshaping: (50,)\n",
      "Dimensions of X before reshaping: (50,)\n",
      "Dimensions of y after reshaping: (50, 1)\n",
      "Dimensions of X after reshaping: (50, 1)\n"
     ]
    }
   ],
   "source": [
    "# Print the dimensions of X and y before reshaping\n",
    "print(\"Dimensions of y before reshaping: {}\".format(y.shape))\n",
    "print(\"Dimensions of X before reshaping: {}\".format(X.shape))\n",
    "\n",
    "# Reshape X and y\n",
    "y = y.reshape(-1,1)\n",
    "X = X.reshape(-1,1)\n",
    "\n",
    "# Print the dimensions of X and y after reshaping\n",
    "print(\"Dimensions of y after reshaping: {}\".format(y.shape))\n",
    "print(\"Dimensions of X after reshaping: {}\".format(X.shape))"
   ]
  },
  {
   "cell_type": "code",
   "execution_count": 9,
   "metadata": {},
   "outputs": [
    {
     "data": {
      "text/plain": [
       "<AxesSubplot:>"
      ]
     },
     "execution_count": 9,
     "metadata": {},
     "output_type": "execute_result"
    },
    {
     "data": {
      "image/png": "[encoded data removed]",
      "text/plain": [
       "<Figure size 432x288 with 2 Axes>"
      ]
     },
     "metadata": {
      "needs_background": "light"
     },
     "output_type": "display_data"
    }
   ],
   "source": [
    "sns.heatmap(df.corr(), square=True, cmap='RdYlGn')"
   ]
  },
  {
   "cell_type": "markdown",
   "metadata": {},
   "source": [
    "# The loss function:\n",
    "    Ordinary Least Squares (OLS): Minimize sum squares of residuals\n",
    "    \n",
    "    \n",
    "The coefficient R^2 = (1 - u/v)\n",
    "\n",
    " - u = the residual sum of squares ((y_true - y_pred) ** 2).sum() -> Var(line) \n",
    "\n",
    " - v = the total sum of squares ((y_true - y_true.mean()) ** 2).sum() ->  Var(mean)\n",
    "\n",
    "- The best possible score is 1.0\n",
    "- It can be negative (because the model can be arbitrarily worse). \n",
    "- A constant model that always predicts the expected value of y, disregarding the input features, would get a R^2 score of 0.0.\n",
    "- What % of total variation is describe by variation in X\n",
    "- is Var(line) is small -> line is good fit \n",
    "    \n",
    "    "
   ]
  },
  {
   "cell_type": "code",
   "execution_count": 26,
   "metadata": {},
   "outputs": [
    {
     "name": "stdout",
     "output_type": "stream",
     "text": [
      "0.7704517178158833\n"
     ]
    }
   ],
   "source": [
    "# Import LinearRegression\n",
    "from sklearn.linear_model import LinearRegression\n",
    "\n",
    "# Create the regressor: reg\n",
    "reg = LinearRegression()\n",
    "\n",
    "# Create the prediction space\n",
    "prediction_space = np.linspace(min(X), max(X)).reshape(-1,1)\n",
    "\n",
    "# Fit the model to the data\n",
    "reg.fit(X, y)\n",
    "\n",
    "# Compute predictions over the prediction space: y_pred\n",
    "y_pred = reg.predict(prediction_space)\n",
    "\n",
    "# Print R^2 \n",
    "print(reg.score(X, y))"
   ]
  },
  {
   "cell_type": "code",
   "execution_count": 27,
   "metadata": {},
   "outputs": [
    {
     "data": {
      "image/png": "[encoded data removed]",
      "text/plain": [
       "<Figure size 432x288 with 1 Axes>"
      ]
     },
     "metadata": {
      "needs_background": "light"
     },
     "output_type": "display_data"
    }
   ],
   "source": [
    "# Plot regression line\n",
    "plt.plot(X, y, 'bo', linewidth=3)\n",
    "plt.plot(prediction_space, y_pred, color='black', linewidth=3)\n",
    "plt.xlabel(\"Fertility\")\n",
    "plt.ylabel(\"Life Expectative\")\n",
    "plt.show()"
   ]
  },
  {
   "cell_type": "code",
   "execution_count": 30,
   "metadata": {},
   "outputs": [
    {
     "name": "stdout",
     "output_type": "stream",
     "text": [
      "R^2: 0.7756078875335125\n",
      "Root Mean Squared Error: 3.6519761369191674\n"
     ]
    }
   ],
   "source": [
    "from sklearn.model_selection import train_test_split\n",
    "from sklearn.metrics import mean_squared_error\n",
    "\n",
    "# Create training and test sets\n",
    "X_train, X_test, y_train, y_test = train_test_split(X, y, test_size = 0.3, random_state=42)\n",
    "\n",
    "# Create the regressor: reg_all\n",
    "reg_all = LinearRegression()\n",
    "\n",
    "# Fit the regressor to the training data\n",
    "reg_all.fit(X_train, y_train)\n",
    "\n",
    "# Predict on the test data: y_pred\n",
    "y_pred = reg_all.predict(X_test)\n",
    "\n",
    "# Compute and print R^2 and RMSE\n",
    "print(\"R^2: {}\".format(reg_all.score(X_test, y_test)))\n",
    "rmse = np.sqrt(mean_squared_error(y_test, y_pred))\n",
    "print(\"Root Mean Squared Error: {}\".format(rmse))"
   ]
  },
  {
   "cell_type": "code",
   "execution_count": null,
   "metadata": {},
   "outputs": [],
   "source": []
  }
 ],
 "metadata": {
  "kernelspec": {
   "display_name": "Python 3",
   "language": "python",
   "name": "python3"
  },
  "language_info": {
   "codemirror_mode": {
    "name": "ipython",
    "version": 3
   },
   "file_extension": ".py",
   "mimetype": "text/x-python",
   "name": "python",
   "nbconvert_exporter": "python",
   "pygments_lexer": "ipython3",
   "version": "3.6.9"
  }
 },
 "nbformat": 4,
 "nbformat_minor": 4
}
